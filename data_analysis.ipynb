{
 "cells": [
  {
   "cell_type": "code",
   "execution_count": 279,
   "id": "d823a49d",
   "metadata": {},
   "outputs": [],
   "source": [
    "import pandas as pd\n",
    "import matplotlib.pyplot as plt \n",
    "import seaborn as sns\n",
    "import numpy as np\n",
    "from scipy import stats as sts\n",
    "from sklearn.linear_model import LinearRegression\n",
    "from sklearn.model_selection import train_test_split\n",
    "from sklearn.metrics import mean_squared_error, mean_absolute_error, mean_absolute_percentage_error"
   ]
  },
  {
   "cell_type": "markdown",
   "id": "cc8aee91",
   "metadata": {},
   "source": [
    "## Предварительная обработка"
   ]
  },
  {
   "cell_type": "code",
   "execution_count": 280,
   "id": "75fb4648",
   "metadata": {},
   "outputs": [
    {
     "data": {
      "text/html": [
       "<div>\n",
       "<style scoped>\n",
       "    .dataframe tbody tr th:only-of-type {\n",
       "        vertical-align: middle;\n",
       "    }\n",
       "\n",
       "    .dataframe tbody tr th {\n",
       "        vertical-align: top;\n",
       "    }\n",
       "\n",
       "    .dataframe thead th {\n",
       "        text-align: right;\n",
       "    }\n",
       "</style>\n",
       "<table border=\"1\" class=\"dataframe\">\n",
       "  <thead>\n",
       "    <tr style=\"text-align: right;\">\n",
       "      <th></th>\n",
       "      <th>Unnamed: 0</th>\n",
       "      <th>nrooms</th>\n",
       "      <th>meters</th>\n",
       "      <th>floor</th>\n",
       "      <th>floors_total</th>\n",
       "      <th>flat_or_appart</th>\n",
       "      <th>zh_comp</th>\n",
       "      <th>deadline</th>\n",
       "      <th>to_metro</th>\n",
       "      <th>district</th>\n",
       "      <th>area</th>\n",
       "      <th>metro</th>\n",
       "      <th>mainprice</th>\n",
       "      <th>price_per_meter</th>\n",
       "      <th>otdelka</th>\n",
       "      <th>developer</th>\n",
       "    </tr>\n",
       "  </thead>\n",
       "  <tbody>\n",
       "    <tr>\n",
       "      <th>0</th>\n",
       "      <td>0</td>\n",
       "      <td>NaN</td>\n",
       "      <td>NaN</td>\n",
       "      <td>NaN</td>\n",
       "      <td>NaN</td>\n",
       "      <td>NaN</td>\n",
       "      <td>ЖК «River Park Towers Кутузовский»</td>\n",
       "      <td>NaN</td>\n",
       "      <td>5 минут пешком</td>\n",
       "      <td>ЗАО</td>\n",
       "      <td>р-н Дорогомилово</td>\n",
       "      <td>м. Фили</td>\n",
       "      <td>22450632</td>\n",
       "      <td>524547</td>\n",
       "      <td>NaN</td>\n",
       "      <td>Аеон-Девелопмент</td>\n",
       "    </tr>\n",
       "    <tr>\n",
       "      <th>1</th>\n",
       "      <td>1</td>\n",
       "      <td>NaN</td>\n",
       "      <td>NaN</td>\n",
       "      <td>NaN</td>\n",
       "      <td>NaN</td>\n",
       "      <td>NaN</td>\n",
       "      <td>ЖК «ÁLIA»</td>\n",
       "      <td>сдача ГК: 2 кв. 2023 года</td>\n",
       "      <td>7 минут пешком</td>\n",
       "      <td>СЗАО</td>\n",
       "      <td>р-н Покровское-Стрешнево</td>\n",
       "      <td>м. Спартак</td>\n",
       "      <td>16122800</td>\n",
       "      <td>335472</td>\n",
       "      <td>NaN</td>\n",
       "      <td>ASTERUS</td>\n",
       "    </tr>\n",
       "    <tr>\n",
       "      <th>2</th>\n",
       "      <td>2</td>\n",
       "      <td>1.0</td>\n",
       "      <td>51,2</td>\n",
       "      <td>41.0</td>\n",
       "      <td>66.0</td>\n",
       "      <td>A</td>\n",
       "      <td>ЖК «NEVA TOWERS»</td>\n",
       "      <td>дом сдан</td>\n",
       "      <td>3 минуты пешком</td>\n",
       "      <td>ЦАО</td>\n",
       "      <td>р-н Пресненский</td>\n",
       "      <td>м. Выставочная</td>\n",
       "      <td>43724800</td>\n",
       "      <td>854000</td>\n",
       "      <td>NaN</td>\n",
       "      <td>Тауэрс</td>\n",
       "    </tr>\n",
       "    <tr>\n",
       "      <th>3</th>\n",
       "      <td>3</td>\n",
       "      <td>1.0</td>\n",
       "      <td>49,8</td>\n",
       "      <td>2.0</td>\n",
       "      <td>18.0</td>\n",
       "      <td>F</td>\n",
       "      <td>ЖК «Luzhniki Collection»</td>\n",
       "      <td>сдача ГК: 4 кв. 2026 года</td>\n",
       "      <td>15 минут пешком</td>\n",
       "      <td>ЦАО</td>\n",
       "      <td>р-н Хамовники</td>\n",
       "      <td>м. Воробьёвы горы</td>\n",
       "      <td>33471000</td>\n",
       "      <td>672108</td>\n",
       "      <td>NaN</td>\n",
       "      <td>Absolute Premium</td>\n",
       "    </tr>\n",
       "    <tr>\n",
       "      <th>4</th>\n",
       "      <td>4</td>\n",
       "      <td>NaN</td>\n",
       "      <td>NaN</td>\n",
       "      <td>NaN</td>\n",
       "      <td>NaN</td>\n",
       "      <td>NaN</td>\n",
       "      <td>ЖК «Famous»</td>\n",
       "      <td>сдача ГК: 4 кв. 2023 года</td>\n",
       "      <td>5 минут пешком</td>\n",
       "      <td>ЗАО</td>\n",
       "      <td>р-н Филевский парк</td>\n",
       "      <td>м. Фили</td>\n",
       "      <td>20837134</td>\n",
       "      <td>543908</td>\n",
       "      <td>NaN</td>\n",
       "      <td>MR Group</td>\n",
       "    </tr>\n",
       "    <tr>\n",
       "      <th>...</th>\n",
       "      <td>...</td>\n",
       "      <td>...</td>\n",
       "      <td>...</td>\n",
       "      <td>...</td>\n",
       "      <td>...</td>\n",
       "      <td>...</td>\n",
       "      <td>...</td>\n",
       "      <td>...</td>\n",
       "      <td>...</td>\n",
       "      <td>...</td>\n",
       "      <td>...</td>\n",
       "      <td>...</td>\n",
       "      <td>...</td>\n",
       "      <td>...</td>\n",
       "      <td>...</td>\n",
       "      <td>...</td>\n",
       "    </tr>\n",
       "    <tr>\n",
       "      <th>8224</th>\n",
       "      <td>8224</td>\n",
       "      <td>NaN</td>\n",
       "      <td>NaN</td>\n",
       "      <td>NaN</td>\n",
       "      <td>NaN</td>\n",
       "      <td>NaN</td>\n",
       "      <td>ЖК «Wellton Towers»</td>\n",
       "      <td>NaN</td>\n",
       "      <td>10 минут пешком</td>\n",
       "      <td>СЗАО</td>\n",
       "      <td>р-н Хорошево-Мневники</td>\n",
       "      <td>м. Народное Ополчение</td>\n",
       "      <td>21700000</td>\n",
       "      <td>563636</td>\n",
       "      <td>NaN</td>\n",
       "      <td>Место</td>\n",
       "    </tr>\n",
       "    <tr>\n",
       "      <th>8225</th>\n",
       "      <td>8225</td>\n",
       "      <td>1.0</td>\n",
       "      <td>44,94</td>\n",
       "      <td>3.0</td>\n",
       "      <td>24.0</td>\n",
       "      <td>F</td>\n",
       "      <td>ЖК «Dream Towers»</td>\n",
       "      <td>сдача ГК: 2 кв. 2023 года</td>\n",
       "      <td>5 минут пешком</td>\n",
       "      <td>ЮАО</td>\n",
       "      <td>р-н Нагатинский затон</td>\n",
       "      <td>м. Технопарк</td>\n",
       "      <td>21396534</td>\n",
       "      <td>476113</td>\n",
       "      <td>NaN</td>\n",
       "      <td>Regions Development</td>\n",
       "    </tr>\n",
       "    <tr>\n",
       "      <th>8226</th>\n",
       "      <td>8226</td>\n",
       "      <td>1.0</td>\n",
       "      <td>48,3</td>\n",
       "      <td>12.0</td>\n",
       "      <td>18.0</td>\n",
       "      <td>F</td>\n",
       "      <td>ЖК «Бадаевский»</td>\n",
       "      <td>сдача ГК: 4 кв. 2025 года</td>\n",
       "      <td>16 минут пешком</td>\n",
       "      <td>ЗАО</td>\n",
       "      <td>р-н Дорогомилово</td>\n",
       "      <td>м. Киевская</td>\n",
       "      <td>50232000</td>\n",
       "      <td>1040000</td>\n",
       "      <td>NaN</td>\n",
       "      <td>Capital Group</td>\n",
       "    </tr>\n",
       "    <tr>\n",
       "      <th>8227</th>\n",
       "      <td>8227</td>\n",
       "      <td>1.0</td>\n",
       "      <td>50,2</td>\n",
       "      <td>16.0</td>\n",
       "      <td>24.0</td>\n",
       "      <td>F</td>\n",
       "      <td>ЖК «HIGH LIFE Летниковская, 11»</td>\n",
       "      <td>NaN</td>\n",
       "      <td>9 минут пешком</td>\n",
       "      <td>ЮАО</td>\n",
       "      <td>р-н Даниловский</td>\n",
       "      <td>м. Павелецкая</td>\n",
       "      <td>33159459</td>\n",
       "      <td>660547</td>\n",
       "      <td>NaN</td>\n",
       "      <td>Пионер</td>\n",
       "    </tr>\n",
       "    <tr>\n",
       "      <th>8228</th>\n",
       "      <td>8228</td>\n",
       "      <td>1.0</td>\n",
       "      <td>53,57</td>\n",
       "      <td>3.0</td>\n",
       "      <td>6.0</td>\n",
       "      <td>A</td>\n",
       "      <td>ЖК «Клубный дом Космо 4/22»</td>\n",
       "      <td>NaN</td>\n",
       "      <td>15 минут пешком</td>\n",
       "      <td>ЦАО</td>\n",
       "      <td>р-н Замоскворечье</td>\n",
       "      <td>м. Новокузнецкая</td>\n",
       "      <td>49402254</td>\n",
       "      <td>922200</td>\n",
       "      <td>NaN</td>\n",
       "      <td>Галс-Девелопмент</td>\n",
       "    </tr>\n",
       "  </tbody>\n",
       "</table>\n",
       "<p>8229 rows × 16 columns</p>\n",
       "</div>"
      ],
      "text/plain": [
       "      Unnamed: 0  nrooms meters  floor  floors_total flat_or_appart  \\\n",
       "0              0     NaN    NaN    NaN           NaN            NaN   \n",
       "1              1     NaN    NaN    NaN           NaN            NaN   \n",
       "2              2     1.0   51,2   41.0          66.0              A   \n",
       "3              3     1.0   49,8    2.0          18.0              F   \n",
       "4              4     NaN    NaN    NaN           NaN            NaN   \n",
       "...          ...     ...    ...    ...           ...            ...   \n",
       "8224        8224     NaN    NaN    NaN           NaN            NaN   \n",
       "8225        8225     1.0  44,94    3.0          24.0              F   \n",
       "8226        8226     1.0   48,3   12.0          18.0              F   \n",
       "8227        8227     1.0   50,2   16.0          24.0              F   \n",
       "8228        8228     1.0  53,57    3.0           6.0              A   \n",
       "\n",
       "                                 zh_comp                   deadline  \\\n",
       "0     ЖК «River Park Towers Кутузовский»                        NaN   \n",
       "1                              ЖК «ÁLIA»  сдача ГК: 2 кв. 2023 года   \n",
       "2                       ЖК «NEVA TOWERS»                   дом сдан   \n",
       "3               ЖК «Luzhniki Collection»  сдача ГК: 4 кв. 2026 года   \n",
       "4                            ЖК «Famous»  сдача ГК: 4 кв. 2023 года   \n",
       "...                                  ...                        ...   \n",
       "8224                 ЖК «Wellton Towers»                        NaN   \n",
       "8225                   ЖК «Dream Towers»  сдача ГК: 2 кв. 2023 года   \n",
       "8226                     ЖК «Бадаевский»  сдача ГК: 4 кв. 2025 года   \n",
       "8227     ЖК «HIGH LIFE Летниковская, 11»                        NaN   \n",
       "8228         ЖК «Клубный дом Космо 4/22»                        NaN   \n",
       "\n",
       "             to_metro district                      area  \\\n",
       "0      5 минут пешком      ЗАО          р-н Дорогомилово   \n",
       "1      7 минут пешком     СЗАО  р-н Покровское-Стрешнево   \n",
       "2     3 минуты пешком      ЦАО           р-н Пресненский   \n",
       "3     15 минут пешком      ЦАО             р-н Хамовники   \n",
       "4      5 минут пешком      ЗАО        р-н Филевский парк   \n",
       "...               ...      ...                       ...   \n",
       "8224  10 минут пешком     СЗАО     р-н Хорошево-Мневники   \n",
       "8225   5 минут пешком      ЮАО     р-н Нагатинский затон   \n",
       "8226  16 минут пешком      ЗАО          р-н Дорогомилово   \n",
       "8227   9 минут пешком      ЮАО           р-н Даниловский   \n",
       "8228  15 минут пешком      ЦАО         р-н Замоскворечье   \n",
       "\n",
       "                      metro  mainprice  price_per_meter otdelka  \\\n",
       "0                   м. Фили   22450632           524547     NaN   \n",
       "1                м. Спартак   16122800           335472     NaN   \n",
       "2            м. Выставочная   43724800           854000     NaN   \n",
       "3         м. Воробьёвы горы   33471000           672108     NaN   \n",
       "4                   м. Фили   20837134           543908     NaN   \n",
       "...                     ...        ...              ...     ...   \n",
       "8224  м. Народное Ополчение   21700000           563636     NaN   \n",
       "8225           м. Технопарк   21396534           476113     NaN   \n",
       "8226            м. Киевская   50232000          1040000     NaN   \n",
       "8227          м. Павелецкая   33159459           660547     NaN   \n",
       "8228       м. Новокузнецкая   49402254           922200     NaN   \n",
       "\n",
       "                developer  \n",
       "0        Аеон-Девелопмент  \n",
       "1                 ASTERUS  \n",
       "2                  Тауэрс  \n",
       "3        Absolute Premium  \n",
       "4                MR Group  \n",
       "...                   ...  \n",
       "8224                Место  \n",
       "8225  Regions Development  \n",
       "8226        Capital Group  \n",
       "8227               Пионер  \n",
       "8228     Галс-Девелопмент  \n",
       "\n",
       "[8229 rows x 16 columns]"
      ]
     },
     "execution_count": 280,
     "metadata": {},
     "output_type": "execute_result"
    }
   ],
   "source": [
    "df = pd.read_csv('data_all.tsv', sep='\\t')\n",
    "df"
   ]
  },
  {
   "cell_type": "markdown",
   "id": "97ab0cf6",
   "metadata": {},
   "source": [
    "##### Получен датафрейм, содержащий информацию об однокмнатных квартирах и апартаментах в новостройках Москвы. Сначала преобразуем данные, а затем подробнее опишем имеющуюся информацию."
   ]
  },
  {
   "cell_type": "markdown",
   "id": "add66678",
   "metadata": {},
   "source": [
    "##### 1. Посчитаем количество пропусков в каждом столбце."
   ]
  },
  {
   "cell_type": "code",
   "execution_count": 281,
   "id": "6e365f94",
   "metadata": {},
   "outputs": [
    {
     "data": {
      "text/plain": [
       "Unnamed: 0            0\n",
       "nrooms             3336\n",
       "meters             3336\n",
       "floor              3336\n",
       "floors_total       3336\n",
       "flat_or_appart     3337\n",
       "zh_comp            1282\n",
       "deadline           3809\n",
       "to_metro             30\n",
       "district            168\n",
       "area                387\n",
       "metro               464\n",
       "mainprice             0\n",
       "price_per_meter       0\n",
       "otdelka            7785\n",
       "developer             0\n",
       "dtype: int64"
      ]
     },
     "execution_count": 281,
     "metadata": {},
     "output_type": "execute_result"
    }
   ],
   "source": [
    "df.isna().sum()  "
   ]
  },
  {
   "cell_type": "markdown",
   "id": "97c7ab8a",
   "metadata": {},
   "source": [
    "##### 2. Столбец \"otdelka\" удаляем из-за большого числа пропусков, а столбец \"nrooms\" , в котором содержится информация о количестве комнат в жилом помещении, - так как все квартиры являются однокомнатными."
   ]
  },
  {
   "cell_type": "code",
   "execution_count": 282,
   "id": "1c17af4b",
   "metadata": {},
   "outputs": [],
   "source": [
    "df = df.drop(columns=['Unnamed: 0', 'nrooms', 'otdelka'])"
   ]
  },
  {
   "cell_type": "markdown",
   "id": "2d0758fe",
   "metadata": {},
   "source": [
    "##### Удалять другие столбцы не будем, заменять пропуски на медианы или нули смысла нет."
   ]
  },
  {
   "cell_type": "markdown",
   "id": "fd615a41",
   "metadata": {},
   "source": [
    "##### 3. Площади квартир записаны через запятую, поэтому не могут восприниматься python как дробные числа (float). Изменим это."
   ]
  },
  {
   "cell_type": "code",
   "execution_count": 293,
   "id": "208de9cd",
   "metadata": {},
   "outputs": [
    {
     "data": {
      "text/html": [
       "<div>\n",
       "<style scoped>\n",
       "    .dataframe tbody tr th:only-of-type {\n",
       "        vertical-align: middle;\n",
       "    }\n",
       "\n",
       "    .dataframe tbody tr th {\n",
       "        vertical-align: top;\n",
       "    }\n",
       "\n",
       "    .dataframe thead th {\n",
       "        text-align: right;\n",
       "    }\n",
       "</style>\n",
       "<table border=\"1\" class=\"dataframe\">\n",
       "  <thead>\n",
       "    <tr style=\"text-align: right;\">\n",
       "      <th></th>\n",
       "      <th>meters</th>\n",
       "      <th>floor</th>\n",
       "      <th>floors_total</th>\n",
       "      <th>flat_or_appart</th>\n",
       "      <th>zh_comp</th>\n",
       "      <th>deadline</th>\n",
       "      <th>to_metro</th>\n",
       "      <th>district</th>\n",
       "      <th>area</th>\n",
       "      <th>metro</th>\n",
       "      <th>mainprice</th>\n",
       "      <th>price_per_meter</th>\n",
       "      <th>developer</th>\n",
       "    </tr>\n",
       "  </thead>\n",
       "  <tbody>\n",
       "    <tr>\n",
       "      <th>0</th>\n",
       "      <td>NaN</td>\n",
       "      <td>NaN</td>\n",
       "      <td>NaN</td>\n",
       "      <td>NaN</td>\n",
       "      <td>ЖК «River Park Towers Кутузовский»</td>\n",
       "      <td>NaN</td>\n",
       "      <td>5 минут пешком</td>\n",
       "      <td>ЗАО</td>\n",
       "      <td>р-н Дорогомилово</td>\n",
       "      <td>м. Фили</td>\n",
       "      <td>22450632</td>\n",
       "      <td>524547</td>\n",
       "      <td>Аеон-Девелопмент</td>\n",
       "    </tr>\n",
       "    <tr>\n",
       "      <th>1</th>\n",
       "      <td>NaN</td>\n",
       "      <td>NaN</td>\n",
       "      <td>NaN</td>\n",
       "      <td>NaN</td>\n",
       "      <td>ЖК «ÁLIA»</td>\n",
       "      <td>сдача ГК: 2 кв. 2023 года</td>\n",
       "      <td>7 минут пешком</td>\n",
       "      <td>СЗАО</td>\n",
       "      <td>р-н Покровское-Стрешнево</td>\n",
       "      <td>м. Спартак</td>\n",
       "      <td>16122800</td>\n",
       "      <td>335472</td>\n",
       "      <td>ASTERUS</td>\n",
       "    </tr>\n",
       "    <tr>\n",
       "      <th>2</th>\n",
       "      <td>51.2</td>\n",
       "      <td>41.0</td>\n",
       "      <td>66.0</td>\n",
       "      <td>A</td>\n",
       "      <td>ЖК «NEVA TOWERS»</td>\n",
       "      <td>дом сдан</td>\n",
       "      <td>3 минуты пешком</td>\n",
       "      <td>ЦАО</td>\n",
       "      <td>р-н Пресненский</td>\n",
       "      <td>м. Выставочная</td>\n",
       "      <td>43724800</td>\n",
       "      <td>854000</td>\n",
       "      <td>Тауэрс</td>\n",
       "    </tr>\n",
       "    <tr>\n",
       "      <th>3</th>\n",
       "      <td>49.8</td>\n",
       "      <td>2.0</td>\n",
       "      <td>18.0</td>\n",
       "      <td>F</td>\n",
       "      <td>ЖК «Luzhniki Collection»</td>\n",
       "      <td>сдача ГК: 4 кв. 2026 года</td>\n",
       "      <td>15 минут пешком</td>\n",
       "      <td>ЦАО</td>\n",
       "      <td>р-н Хамовники</td>\n",
       "      <td>м. Воробьёвы горы</td>\n",
       "      <td>33471000</td>\n",
       "      <td>672108</td>\n",
       "      <td>Absolute Premium</td>\n",
       "    </tr>\n",
       "    <tr>\n",
       "      <th>4</th>\n",
       "      <td>NaN</td>\n",
       "      <td>NaN</td>\n",
       "      <td>NaN</td>\n",
       "      <td>NaN</td>\n",
       "      <td>ЖК «Famous»</td>\n",
       "      <td>сдача ГК: 4 кв. 2023 года</td>\n",
       "      <td>5 минут пешком</td>\n",
       "      <td>ЗАО</td>\n",
       "      <td>р-н Филевский парк</td>\n",
       "      <td>м. Фили</td>\n",
       "      <td>20837134</td>\n",
       "      <td>543908</td>\n",
       "      <td>MR Group</td>\n",
       "    </tr>\n",
       "  </tbody>\n",
       "</table>\n",
       "</div>"
      ],
      "text/plain": [
       "  meters  floor  floors_total flat_or_appart  \\\n",
       "0    NaN    NaN           NaN            NaN   \n",
       "1    NaN    NaN           NaN            NaN   \n",
       "2   51.2   41.0          66.0              A   \n",
       "3   49.8    2.0          18.0              F   \n",
       "4    NaN    NaN           NaN            NaN   \n",
       "\n",
       "                              zh_comp                   deadline  \\\n",
       "0  ЖК «River Park Towers Кутузовский»                        NaN   \n",
       "1                           ЖК «ÁLIA»  сдача ГК: 2 кв. 2023 года   \n",
       "2                    ЖК «NEVA TOWERS»                   дом сдан   \n",
       "3            ЖК «Luzhniki Collection»  сдача ГК: 4 кв. 2026 года   \n",
       "4                         ЖК «Famous»  сдача ГК: 4 кв. 2023 года   \n",
       "\n",
       "          to_metro district                      area              metro  \\\n",
       "0   5 минут пешком      ЗАО          р-н Дорогомилово            м. Фили   \n",
       "1   7 минут пешком     СЗАО  р-н Покровское-Стрешнево         м. Спартак   \n",
       "2  3 минуты пешком      ЦАО           р-н Пресненский     м. Выставочная   \n",
       "3  15 минут пешком      ЦАО             р-н Хамовники  м. Воробьёвы горы   \n",
       "4   5 минут пешком      ЗАО        р-н Филевский парк            м. Фили   \n",
       "\n",
       "   mainprice  price_per_meter         developer  \n",
       "0   22450632           524547  Аеон-Девелопмент  \n",
       "1   16122800           335472           ASTERUS  \n",
       "2   43724800           854000            Тауэрс  \n",
       "3   33471000           672108  Absolute Premium  \n",
       "4   20837134           543908          MR Group  "
      ]
     },
     "execution_count": 293,
     "metadata": {},
     "output_type": "execute_result"
    }
   ],
   "source": [
    "df1 = pd.DataFrame(df['meters'])\n",
    "df1 = df1.stack().str.replace(',','.').unstack()\n",
    "df['meters'] = df1['meters']\n",
    "df.head(5)"
   ]
  },
  {
   "cell_type": "code",
   "execution_count": 294,
   "id": "91a2de51",
   "metadata": {},
   "outputs": [
    {
     "data": {
      "text/plain": [
       "array(['5 минут пешком', '7 минут пешком', '3 минуты пешком',\n",
       "       '15 минут пешком', '3 минуты на транспорте', '4 минуты пешком',\n",
       "       '7 минут на транспорте', '11 минут пешком', '1 минута пешком',\n",
       "       '13 минут пешком', '8 минут пешком', '14 минут пешком',\n",
       "       '10 минут пешком', '6 минут пешком', '9 минут пешком',\n",
       "       '16 минут пешком', '20 минут пешком', '2 минуты пешком',\n",
       "       '12 минут пешком', '6 минут на транспорте', '17 минут пешком',\n",
       "       '2 минуты на транспорте', '5 минут на транспорте',\n",
       "       '18 минут пешком', '19 минут пешком', '4 минуты на транспорте',\n",
       "       '11 минут на транспорте', '9 минут на транспорте',\n",
       "       '15 минут на транспорте', '10 минут на транспорте',\n",
       "       '14 минут на транспорте', '18 минут на транспорте',\n",
       "       '1 минута на транспорте', nan, '13 минут на транспорте',\n",
       "       '8 минут на транспорте', '12 минут на транспорте',\n",
       "       '55 минут на транспорте', '16 минут на транспорте',\n",
       "       '30 минут на транспорте', '31 минута на транспорте',\n",
       "       '35 минут на транспорте', '22 минуты на транспорте',\n",
       "       '17 минут на транспорте', '20 минут на транспорте',\n",
       "       '40 минут на транспорте', '23 минуты на транспорте',\n",
       "       '21 минута на транспорте', '19 минут на транспорте'], dtype=object)"
      ]
     },
     "execution_count": 294,
     "metadata": {},
     "output_type": "execute_result"
    }
   ],
   "source": [
    "df['to_metro'].unique()"
   ]
  },
  {
   "cell_type": "markdown",
   "id": "a5c6d80a",
   "metadata": {},
   "source": [
    "##### 4. Видим, что столбец \"to_metro\" включает себя информацию о времени до метро пешком и на транспорте, поэтому поделим его на два столбца."
   ]
  },
  {
   "cell_type": "code",
   "execution_count": 295,
   "id": "2ecbf6ca",
   "metadata": {},
   "outputs": [
    {
     "name": "stderr",
     "output_type": "stream",
     "text": [
      "C:\\Users\\ousko\\AppData\\Local\\Temp\\ipykernel_1784\\2032576025.py:6: SettingWithCopyWarning: \n",
      "A value is trying to be set on a copy of a slice from a DataFrame\n",
      "\n",
      "See the caveats in the documentation: https://pandas.pydata.org/pandas-docs/stable/user_guide/indexing.html#returning-a-view-versus-a-copy\n",
      "  df['to_metro_on_foot'][k] = df['to_metro'][k][0:2]   # оставляем только минуты\n",
      "C:\\Users\\ousko\\AppData\\Local\\Temp\\ipykernel_1784\\2032576025.py:19: SettingWithCopyWarning: \n",
      "A value is trying to be set on a copy of a slice from a DataFrame\n",
      "\n",
      "See the caveats in the documentation: https://pandas.pydata.org/pandas-docs/stable/user_guide/indexing.html#returning-a-view-versus-a-copy\n",
      "  df['to_metro_by_transport'][l] = np.nan\n"
     ]
    }
   ],
   "source": [
    "df['to_metro'] = df['to_metro'].astype(str)\n",
    "df['to_metro_on_foot'] = 0\n",
    "k = 0\n",
    "for i in df['to_metro_on_foot']:\n",
    "    if len(df['to_metro'][k]) <= 15 & len(df['to_metro'][k]) > 3:\n",
    "        df['to_metro_on_foot'][k] = df['to_metro'][k][0:2]   # оставляем только минуты\n",
    "        k += 1\n",
    "    else:\n",
    "        df['to_metro_on_foot'][k] = np.nan\n",
    "        k += 1\n",
    "        \n",
    "df['to_metro_by_transport'] = 0\n",
    "l = 0\n",
    "for i in df['to_metro_by_transport']:\n",
    "    if len(df['to_metro'][l]) > 15:\n",
    "        df['to_metro_by_transport'][l] = df['to_metro'][l][0:2]   # оставляем только минуты\n",
    "        l += 1\n",
    "    else:\n",
    "        df['to_metro_by_transport'][l] = np.nan\n",
    "        l += 1"
   ]
  },
  {
   "cell_type": "code",
   "execution_count": 296,
   "id": "1228be1c",
   "metadata": {},
   "outputs": [],
   "source": [
    "df['to_metro_on_foot'] = df['to_metro_on_foot'].fillna(0).astype(int)  # меняем формат чисел на int\n",
    "df['to_metro_on_foot'] = df['to_metro_on_foot'].replace(0, np.nan)  # возвращаем NaN\n",
    "df['to_metro_by_transport'] = df['to_metro_by_transport'].fillna(0).astype(int)  # меняем формат чисел на int\n",
    "df['to_metro_by_transport'] = df['to_metro_by_transport'].replace(0, np.nan)  # возвращаем NaN"
   ]
  },
  {
   "cell_type": "code",
   "execution_count": 297,
   "id": "1bef5537",
   "metadata": {},
   "outputs": [
    {
     "data": {
      "text/html": [
       "<div>\n",
       "<style scoped>\n",
       "    .dataframe tbody tr th:only-of-type {\n",
       "        vertical-align: middle;\n",
       "    }\n",
       "\n",
       "    .dataframe tbody tr th {\n",
       "        vertical-align: top;\n",
       "    }\n",
       "\n",
       "    .dataframe thead th {\n",
       "        text-align: right;\n",
       "    }\n",
       "</style>\n",
       "<table border=\"1\" class=\"dataframe\">\n",
       "  <thead>\n",
       "    <tr style=\"text-align: right;\">\n",
       "      <th></th>\n",
       "      <th>meters</th>\n",
       "      <th>floor</th>\n",
       "      <th>floors_total</th>\n",
       "      <th>flat_or_appart</th>\n",
       "      <th>zh_comp</th>\n",
       "      <th>deadline</th>\n",
       "      <th>district</th>\n",
       "      <th>area</th>\n",
       "      <th>metro</th>\n",
       "      <th>mainprice</th>\n",
       "      <th>price_per_meter</th>\n",
       "      <th>developer</th>\n",
       "      <th>to_metro_on_foot</th>\n",
       "      <th>to_metro_by_transport</th>\n",
       "    </tr>\n",
       "  </thead>\n",
       "  <tbody>\n",
       "    <tr>\n",
       "      <th>0</th>\n",
       "      <td>NaN</td>\n",
       "      <td>NaN</td>\n",
       "      <td>NaN</td>\n",
       "      <td>NaN</td>\n",
       "      <td>ЖК «River Park Towers Кутузовский»</td>\n",
       "      <td>NaN</td>\n",
       "      <td>ЗАО</td>\n",
       "      <td>р-н Дорогомилово</td>\n",
       "      <td>м. Фили</td>\n",
       "      <td>22450632</td>\n",
       "      <td>524547</td>\n",
       "      <td>Аеон-Девелопмент</td>\n",
       "      <td>5.0</td>\n",
       "      <td>NaN</td>\n",
       "    </tr>\n",
       "    <tr>\n",
       "      <th>1</th>\n",
       "      <td>NaN</td>\n",
       "      <td>NaN</td>\n",
       "      <td>NaN</td>\n",
       "      <td>NaN</td>\n",
       "      <td>ЖК «ÁLIA»</td>\n",
       "      <td>сдача ГК: 2 кв. 2023 года</td>\n",
       "      <td>СЗАО</td>\n",
       "      <td>р-н Покровское-Стрешнево</td>\n",
       "      <td>м. Спартак</td>\n",
       "      <td>16122800</td>\n",
       "      <td>335472</td>\n",
       "      <td>ASTERUS</td>\n",
       "      <td>7.0</td>\n",
       "      <td>NaN</td>\n",
       "    </tr>\n",
       "    <tr>\n",
       "      <th>2</th>\n",
       "      <td>51.2</td>\n",
       "      <td>41.0</td>\n",
       "      <td>66.0</td>\n",
       "      <td>A</td>\n",
       "      <td>ЖК «NEVA TOWERS»</td>\n",
       "      <td>дом сдан</td>\n",
       "      <td>ЦАО</td>\n",
       "      <td>р-н Пресненский</td>\n",
       "      <td>м. Выставочная</td>\n",
       "      <td>43724800</td>\n",
       "      <td>854000</td>\n",
       "      <td>Тауэрс</td>\n",
       "      <td>3.0</td>\n",
       "      <td>NaN</td>\n",
       "    </tr>\n",
       "    <tr>\n",
       "      <th>3</th>\n",
       "      <td>49.8</td>\n",
       "      <td>2.0</td>\n",
       "      <td>18.0</td>\n",
       "      <td>F</td>\n",
       "      <td>ЖК «Luzhniki Collection»</td>\n",
       "      <td>сдача ГК: 4 кв. 2026 года</td>\n",
       "      <td>ЦАО</td>\n",
       "      <td>р-н Хамовники</td>\n",
       "      <td>м. Воробьёвы горы</td>\n",
       "      <td>33471000</td>\n",
       "      <td>672108</td>\n",
       "      <td>Absolute Premium</td>\n",
       "      <td>15.0</td>\n",
       "      <td>NaN</td>\n",
       "    </tr>\n",
       "    <tr>\n",
       "      <th>4</th>\n",
       "      <td>NaN</td>\n",
       "      <td>NaN</td>\n",
       "      <td>NaN</td>\n",
       "      <td>NaN</td>\n",
       "      <td>ЖК «Famous»</td>\n",
       "      <td>сдача ГК: 4 кв. 2023 года</td>\n",
       "      <td>ЗАО</td>\n",
       "      <td>р-н Филевский парк</td>\n",
       "      <td>м. Фили</td>\n",
       "      <td>20837134</td>\n",
       "      <td>543908</td>\n",
       "      <td>MR Group</td>\n",
       "      <td>5.0</td>\n",
       "      <td>NaN</td>\n",
       "    </tr>\n",
       "    <tr>\n",
       "      <th>...</th>\n",
       "      <td>...</td>\n",
       "      <td>...</td>\n",
       "      <td>...</td>\n",
       "      <td>...</td>\n",
       "      <td>...</td>\n",
       "      <td>...</td>\n",
       "      <td>...</td>\n",
       "      <td>...</td>\n",
       "      <td>...</td>\n",
       "      <td>...</td>\n",
       "      <td>...</td>\n",
       "      <td>...</td>\n",
       "      <td>...</td>\n",
       "      <td>...</td>\n",
       "    </tr>\n",
       "    <tr>\n",
       "      <th>8224</th>\n",
       "      <td>NaN</td>\n",
       "      <td>NaN</td>\n",
       "      <td>NaN</td>\n",
       "      <td>NaN</td>\n",
       "      <td>ЖК «Wellton Towers»</td>\n",
       "      <td>NaN</td>\n",
       "      <td>СЗАО</td>\n",
       "      <td>р-н Хорошево-Мневники</td>\n",
       "      <td>м. Народное Ополчение</td>\n",
       "      <td>21700000</td>\n",
       "      <td>563636</td>\n",
       "      <td>Место</td>\n",
       "      <td>10.0</td>\n",
       "      <td>NaN</td>\n",
       "    </tr>\n",
       "    <tr>\n",
       "      <th>8225</th>\n",
       "      <td>44.94</td>\n",
       "      <td>3.0</td>\n",
       "      <td>24.0</td>\n",
       "      <td>F</td>\n",
       "      <td>ЖК «Dream Towers»</td>\n",
       "      <td>сдача ГК: 2 кв. 2023 года</td>\n",
       "      <td>ЮАО</td>\n",
       "      <td>р-н Нагатинский затон</td>\n",
       "      <td>м. Технопарк</td>\n",
       "      <td>21396534</td>\n",
       "      <td>476113</td>\n",
       "      <td>Regions Development</td>\n",
       "      <td>5.0</td>\n",
       "      <td>NaN</td>\n",
       "    </tr>\n",
       "    <tr>\n",
       "      <th>8226</th>\n",
       "      <td>48.3</td>\n",
       "      <td>12.0</td>\n",
       "      <td>18.0</td>\n",
       "      <td>F</td>\n",
       "      <td>ЖК «Бадаевский»</td>\n",
       "      <td>сдача ГК: 4 кв. 2025 года</td>\n",
       "      <td>ЗАО</td>\n",
       "      <td>р-н Дорогомилово</td>\n",
       "      <td>м. Киевская</td>\n",
       "      <td>50232000</td>\n",
       "      <td>1040000</td>\n",
       "      <td>Capital Group</td>\n",
       "      <td>16.0</td>\n",
       "      <td>NaN</td>\n",
       "    </tr>\n",
       "    <tr>\n",
       "      <th>8227</th>\n",
       "      <td>50.2</td>\n",
       "      <td>16.0</td>\n",
       "      <td>24.0</td>\n",
       "      <td>F</td>\n",
       "      <td>ЖК «HIGH LIFE Летниковская, 11»</td>\n",
       "      <td>NaN</td>\n",
       "      <td>ЮАО</td>\n",
       "      <td>р-н Даниловский</td>\n",
       "      <td>м. Павелецкая</td>\n",
       "      <td>33159459</td>\n",
       "      <td>660547</td>\n",
       "      <td>Пионер</td>\n",
       "      <td>9.0</td>\n",
       "      <td>NaN</td>\n",
       "    </tr>\n",
       "    <tr>\n",
       "      <th>8228</th>\n",
       "      <td>53.57</td>\n",
       "      <td>3.0</td>\n",
       "      <td>6.0</td>\n",
       "      <td>A</td>\n",
       "      <td>ЖК «Клубный дом Космо 4/22»</td>\n",
       "      <td>NaN</td>\n",
       "      <td>ЦАО</td>\n",
       "      <td>р-н Замоскворечье</td>\n",
       "      <td>м. Новокузнецкая</td>\n",
       "      <td>49402254</td>\n",
       "      <td>922200</td>\n",
       "      <td>Галс-Девелопмент</td>\n",
       "      <td>15.0</td>\n",
       "      <td>NaN</td>\n",
       "    </tr>\n",
       "  </tbody>\n",
       "</table>\n",
       "<p>8229 rows × 14 columns</p>\n",
       "</div>"
      ],
      "text/plain": [
       "     meters  floor  floors_total flat_or_appart  \\\n",
       "0       NaN    NaN           NaN            NaN   \n",
       "1       NaN    NaN           NaN            NaN   \n",
       "2      51.2   41.0          66.0              A   \n",
       "3      49.8    2.0          18.0              F   \n",
       "4       NaN    NaN           NaN            NaN   \n",
       "...     ...    ...           ...            ...   \n",
       "8224    NaN    NaN           NaN            NaN   \n",
       "8225  44.94    3.0          24.0              F   \n",
       "8226   48.3   12.0          18.0              F   \n",
       "8227   50.2   16.0          24.0              F   \n",
       "8228  53.57    3.0           6.0              A   \n",
       "\n",
       "                                 zh_comp                   deadline district  \\\n",
       "0     ЖК «River Park Towers Кутузовский»                        NaN      ЗАО   \n",
       "1                              ЖК «ÁLIA»  сдача ГК: 2 кв. 2023 года     СЗАО   \n",
       "2                       ЖК «NEVA TOWERS»                   дом сдан      ЦАО   \n",
       "3               ЖК «Luzhniki Collection»  сдача ГК: 4 кв. 2026 года      ЦАО   \n",
       "4                            ЖК «Famous»  сдача ГК: 4 кв. 2023 года      ЗАО   \n",
       "...                                  ...                        ...      ...   \n",
       "8224                 ЖК «Wellton Towers»                        NaN     СЗАО   \n",
       "8225                   ЖК «Dream Towers»  сдача ГК: 2 кв. 2023 года      ЮАО   \n",
       "8226                     ЖК «Бадаевский»  сдача ГК: 4 кв. 2025 года      ЗАО   \n",
       "8227     ЖК «HIGH LIFE Летниковская, 11»                        NaN      ЮАО   \n",
       "8228         ЖК «Клубный дом Космо 4/22»                        NaN      ЦАО   \n",
       "\n",
       "                          area                  metro  mainprice  \\\n",
       "0             р-н Дорогомилово                м. Фили   22450632   \n",
       "1     р-н Покровское-Стрешнево             м. Спартак   16122800   \n",
       "2              р-н Пресненский         м. Выставочная   43724800   \n",
       "3                р-н Хамовники      м. Воробьёвы горы   33471000   \n",
       "4           р-н Филевский парк                м. Фили   20837134   \n",
       "...                        ...                    ...        ...   \n",
       "8224     р-н Хорошево-Мневники  м. Народное Ополчение   21700000   \n",
       "8225     р-н Нагатинский затон           м. Технопарк   21396534   \n",
       "8226          р-н Дорогомилово            м. Киевская   50232000   \n",
       "8227           р-н Даниловский          м. Павелецкая   33159459   \n",
       "8228         р-н Замоскворечье       м. Новокузнецкая   49402254   \n",
       "\n",
       "      price_per_meter            developer  to_metro_on_foot  \\\n",
       "0              524547     Аеон-Девелопмент               5.0   \n",
       "1              335472              ASTERUS               7.0   \n",
       "2              854000               Тауэрс               3.0   \n",
       "3              672108     Absolute Premium              15.0   \n",
       "4              543908             MR Group               5.0   \n",
       "...               ...                  ...               ...   \n",
       "8224           563636                Место              10.0   \n",
       "8225           476113  Regions Development               5.0   \n",
       "8226          1040000        Capital Group              16.0   \n",
       "8227           660547               Пионер               9.0   \n",
       "8228           922200     Галс-Девелопмент              15.0   \n",
       "\n",
       "      to_metro_by_transport  \n",
       "0                       NaN  \n",
       "1                       NaN  \n",
       "2                       NaN  \n",
       "3                       NaN  \n",
       "4                       NaN  \n",
       "...                     ...  \n",
       "8224                    NaN  \n",
       "8225                    NaN  \n",
       "8226                    NaN  \n",
       "8227                    NaN  \n",
       "8228                    NaN  \n",
       "\n",
       "[8229 rows x 14 columns]"
      ]
     },
     "execution_count": 297,
     "metadata": {},
     "output_type": "execute_result"
    }
   ],
   "source": [
    "df = df.drop('to_metro', axis=1)  # удаляем столбец \"to_metro\"\n",
    "df"
   ]
  },
  {
   "cell_type": "markdown",
   "id": "91220a5d",
   "metadata": {},
   "source": [
    "##### Итак, полученный датафрейм включает в себя следующую информацию об однокомнатных квартирах и апартаментах в московских новостройках:\n",
    "* **meters:** площадь в квадратных метрах;\n",
    "* **floor:** этаж;\n",
    "* **floors_total:** общее количество этажей в доме;\n",
    "* **flat_or_appart:** является ли жилое помещение квартирой (F) или апартаментами (А);\n",
    "* **zh_comp:** жилой комлекс;\n",
    "* **deadline:** ввод в эксплуатацию;\n",
    "* **district:** административный округ;\n",
    "* **area:** район;\n",
    "* **metro:** ближайшая станция метро;\n",
    "* **mainprice:** полная стоимость;\n",
    "* **price_per_meter:** цена за квадратный метр;\n",
    "* **developer:** застройщик;\n",
    "* **to_metro_on_foot:** минуты до метро пешком;\n",
    "* **to_metro_by_transport:** минуты до метро на транспорте."
   ]
  },
  {
   "cell_type": "markdown",
   "id": "4a2a5ba8",
   "metadata": {},
   "source": [
    "## Анализ и визуализация полученных данных "
   ]
  },
  {
   "cell_type": "markdown",
   "id": "c9966eb8",
   "metadata": {},
   "source": [
    "##### 1. Посчитаем количество уникальных районов, в которых находятся квартиры."
   ]
  },
  {
   "cell_type": "code",
   "execution_count": 298,
   "id": "4705811d",
   "metadata": {},
   "outputs": [
    {
     "data": {
      "text/plain": [
       "117"
      ]
     },
     "execution_count": 298,
     "metadata": {},
     "output_type": "execute_result"
    }
   ],
   "source": [
    "len(df['area'].unique())"
   ]
  },
  {
   "cell_type": "markdown",
   "id": "553d6acb",
   "metadata": {},
   "source": [
    "##### 2. Посмотрим, у каких застройщиков самые высокие цены."
   ]
  },
  {
   "cell_type": "code",
   "execution_count": 299,
   "id": "907d2a4c",
   "metadata": {},
   "outputs": [
    {
     "data": {
      "text/plain": [
       "developer\n",
       "494 УНР                        661000.000000\n",
       "AFI Development                424666.666667\n",
       "ALFA real estate               437853.000000\n",
       "ALVO Group                     621551.250000\n",
       "ASTERUS                        336381.831818\n",
       "ATLANT                         571429.000000\n",
       "Absolute Premium               673515.889908\n",
       "Acropol                        414957.000000\n",
       "Alliance Agency Real Estate    366154.000000\n",
       "BARNES International Realty    488700.500000\n",
       "Name: price_per_meter, dtype: float64"
      ]
     },
     "execution_count": 299,
     "metadata": {},
     "output_type": "execute_result"
    }
   ],
   "source": [
    "df.groupby('developer')['price_per_meter'].mean().head(10)  "
   ]
  },
  {
   "cell_type": "markdown",
   "id": "7ce67420",
   "metadata": {},
   "source": [
    "##### 3. Посмотрим, как соотносятся средние цены квадратного метра по округам."
   ]
  },
  {
   "cell_type": "code",
   "execution_count": 300,
   "id": "15717945",
   "metadata": {},
   "outputs": [
    {
     "data": {
      "image/png": "[encoded data removed]",
      "text/plain": [
       "<Figure size 800x400 with 1 Axes>"
      ]
     },
     "metadata": {},
     "output_type": "display_data"
    }
   ],
   "source": [
    "plt.figure(figsize=(8, 4))\n",
    "plt.ticklabel_format(style = 'plain')\n",
    "df.groupby(by='district')['price_per_meter'].mean().plot(kind='bar', legend=None, color='crimson');\n",
    "plt.title('Средняя цена м² по округам')\n",
    "plt.xlabel('Округ')\n",
    "plt.ylabel('Средняя цена м²');"
   ]
  },
  {
   "cell_type": "markdown",
   "id": "d7edb2e8",
   "metadata": {},
   "source": [
    "##### На гистограмме видно, что наиболее дорогое жильё в новостройках расположено в ЦАО и ЗАО, которые являются наиболее престижными административными округами Москвы. Далее проверим гипотезу о том, что дисперсия цены м² в ЦАО не меньше, чем в ЗАО."
   ]
  },
  {
   "cell_type": "markdown",
   "id": "27f9b5df",
   "metadata": {},
   "source": [
    "##### 4. Выясним, как соотносятся между собой средние цены квадратного метра в апартаментах и в квартирах."
   ]
  },
  {
   "cell_type": "code",
   "execution_count": 301,
   "id": "b3d54848",
   "metadata": {},
   "outputs": [
    {
     "data": {
      "text/plain": [
       "flat_or_appart\n",
       "A    818579.312064\n",
       "F    793512.759321\n",
       "Name: price_per_meter, dtype: float64"
      ]
     },
     "execution_count": 301,
     "metadata": {},
     "output_type": "execute_result"
    }
   ],
   "source": [
    "df.groupby('flat_or_appart')['price_per_meter'].mean()"
   ]
  },
  {
   "cell_type": "markdown",
   "id": "6d679b23",
   "metadata": {},
   "source": [
    "##### Здесь мы видим интересную закономерность, что цена м² в апартаментах в среднем выше цены м² в квартирах. Попробуем исследовать эту связь глубже."
   ]
  },
  {
   "cell_type": "markdown",
   "id": "3e488f5b",
   "metadata": {},
   "source": [
    "Посмотрим на список округов, которые у нас есть:"
   ]
  },
  {
   "cell_type": "code",
   "execution_count": 302,
   "id": "03a63300",
   "metadata": {},
   "outputs": [
    {
     "data": {
      "text/plain": [
       "array(['ЗАО', 'СЗАО', 'ЦАО', 'САО', 'ЮАО', 'СВАО', 'ВАО',\n",
       "       'НАО (Новомосковский)', 'ЮВАО', 'ЮЗАО', 'ТАО (Троицкий)', 'ЗелАО'],\n",
       "      dtype=object)"
      ]
     },
     "execution_count": 302,
     "metadata": {},
     "output_type": "execute_result"
    }
   ],
   "source": [
    "X = df['district'].unique()\n",
    "X = np.delete(X, 11)\n",
    "X"
   ]
  },
  {
   "cell_type": "markdown",
   "id": "bad1536d",
   "metadata": {},
   "source": [
    "Всего у нас 12 округов."
   ]
  },
  {
   "cell_type": "markdown",
   "id": "df85e053",
   "metadata": {},
   "source": [
    "##### Визуализируем распределение количества квартир и апартаментов по округам"
   ]
  },
  {
   "cell_type": "code",
   "execution_count": 303,
   "id": "f5576614",
   "metadata": {},
   "outputs": [],
   "source": [
    "number_of_aps = np.array([])\n",
    "for i in X:\n",
    "    z = df[(df['flat_or_appart'] == 'A') & (df['district'] == f'{i}')]\n",
    "    number_of_aps = np.append(number_of_aps, len(z))"
   ]
  },
  {
   "cell_type": "code",
   "execution_count": 304,
   "id": "58eb8763",
   "metadata": {},
   "outputs": [],
   "source": [
    "number_of_flats = np.array([])\n",
    "for i in X:\n",
    "    z = df[(df['flat_or_appart'] == 'F') & (df['district'] == f'{i}')]\n",
    "    number_of_flats = np.append(number_of_flats, len(z))"
   ]
  },
  {
   "cell_type": "code",
   "execution_count": 305,
   "id": "3e950986",
   "metadata": {},
   "outputs": [
    {
     "data": {
      "image/png": "[encoded data removed]",
      "text/plain": [
       "<Figure size 2000x600 with 1 Axes>"
      ]
     },
     "metadata": {},
     "output_type": "display_data"
    }
   ],
   "source": [
    "X_axis = np.arange(len(X))\n",
    "plt.figure(figsize=(20,6))  \n",
    "plt.bar(X_axis - 0.2, number_of_aps, 0.4, label = 'Апартаменты', color='green')\n",
    "plt.bar(X_axis + 0.2, number_of_flats, 0.4, label = 'Квартиры', color='crimson')\n",
    "  \n",
    "plt.xticks(X_axis, X)\n",
    "plt.xlabel(\"Название округа\")\n",
    "plt.ylabel(\"Количество\")\n",
    "plt.title(\"Количество апартаментов и квартир по округам\")\n",
    "plt.legend()\n",
    "plt.show()"
   ]
  },
  {
   "cell_type": "markdown",
   "id": "a07d07a6",
   "metadata": {},
   "source": [
    "##### На графике видно, что большинство апартаментов находится в ЦАО, с этим может быть связана их высокая средняя стоимость. В отдаленных от центра Москвы районах апартаментов почти нет."
   ]
  },
  {
   "cell_type": "markdown",
   "id": "2e640af4",
   "metadata": {},
   "source": [
    "##### Теперь исследуем средние цены м² в  квартирах и апартаментах по округам."
   ]
  },
  {
   "cell_type": "code",
   "execution_count": 308,
   "id": "253bcacf",
   "metadata": {},
   "outputs": [],
   "source": [
    "price_of_aps = np.array([])\n",
    "for i in X:\n",
    "    z = df[(df['flat_or_appart'] == 'A') & (df['district'] == f'{i}')]\n",
    "    price_of_aps = np.append(price_of_aps, z['price_per_meter'].mean())"
   ]
  },
  {
   "cell_type": "code",
   "execution_count": 309,
   "id": "98a4315f",
   "metadata": {},
   "outputs": [],
   "source": [
    "price_of_flats = np.array([])\n",
    "for i in X:\n",
    "    z = df[(df['flat_or_appart'] == 'F') & (df['district'] == f'{i}')]\n",
    "    price_of_flats = np.append(price_of_flats, z['price_per_meter'].mean())"
   ]
  },
  {
   "cell_type": "code",
   "execution_count": 310,
   "id": "51ef61f8",
   "metadata": {},
   "outputs": [
    {
     "data": {
      "image/png": "[encoded data removed]",
      "text/plain": [
       "<Figure size 2000x600 with 1 Axes>"
      ]
     },
     "metadata": {},
     "output_type": "display_data"
    }
   ],
   "source": [
    "X_axis = np.arange(len(X))\n",
    "\n",
    "plt.figure(figsize=(20,6)) \n",
    "plt.ticklabel_format(style = 'plain')\n",
    "plt.bar(X_axis - 0.2, price_of_aps, 0.4, label = 'Апартаменты', color='green')\n",
    "plt.bar(X_axis + 0.2, price_of_flats, 0.4, label = 'Квартиры', color='crimson')\n",
    "  \n",
    "plt.xticks(X_axis, X)\n",
    "plt.xlabel(\"Название округа\")\n",
    "plt.ylabel(\"Средняя цена за м²\")\n",
    "plt.title(\"Средняя цена м² в апартаментах и квартирах по округам\")\n",
    "plt.legend()\n",
    "plt.show()"
   ]
  },
  {
   "cell_type": "markdown",
   "id": "23632711",
   "metadata": {},
   "source": [
    "##### На графике видно, что в большинстве округов, где есть и квартиры, и апартаменты, квартиры стоят дороже, однако в САО, ЮВАО и ЮЗАО - наоборот. А в среднем, как выяснидось ранее, квадратный метр в апартаментах стоит дороже чем в квартирах, поэтому проверим гипотезу о том, что средняя цена м² в апартаментах не ниже, чем средняя цена м² в квартирах."
   ]
  },
  {
   "cell_type": "markdown",
   "id": "d96d4f37",
   "metadata": {},
   "source": [
    "##### 5. Исходя из собственного жизненного опыта мы предполагаем, что для недвижимости более низкого ценового сегмента параметр \"время до метро пешком\" значительно влияет на цену (чем ближе к метро жилье, тем дороже квартира). Также мы думаем, что эта закономерность ослабевает или пропадает для недвижимости более высокого ценового сегмента. Посмотрим, какие результаты получатся на нашей выборке."
   ]
  },
  {
   "cell_type": "markdown",
   "id": "6a6e0510",
   "metadata": {},
   "source": [
    "##### Сначала возьмем недвижимость с более низким ценником из нашей выборки. Это будет жилье стоимостью ниже 30 миллионов рублей."
   ]
  },
  {
   "cell_type": "code",
   "execution_count": 311,
   "id": "d11bf0c0",
   "metadata": {},
   "outputs": [
    {
     "data": {
      "image/png": "[encoded data removed]",
      "text/plain": [
       "<Figure size 640x480 with 2 Axes>"
      ]
     },
     "metadata": {},
     "output_type": "display_data"
    }
   ],
   "source": [
    "matrix = df[df['mainprice']<30000000][['to_metro_on_foot', 'price_per_meter']].dropna().corr()\n",
    "sns.heatmap(matrix, annot=True, vmax=1, vmin=-1, center=0, cmap='vlag')\n",
    "plt.show()"
   ]
  },
  {
   "cell_type": "markdown",
   "id": "6b7acb00",
   "metadata": {},
   "source": [
    "##### На тепловой карте корреляции мы видим, что есть небольшая обратная зависимость между временем до метро пешком и стоимостью квартиры."
   ]
  },
  {
   "cell_type": "markdown",
   "id": "cb0c4a18",
   "metadata": {},
   "source": [
    "##### Теперь посмотрим на \"средний\" ценовой сегмент для нашей выборки (по факту это очень приличное жилье, конечно). В нем будет недвижимость стоимостью от 30 до 60 миллионов рублей."
   ]
  },
  {
   "cell_type": "code",
   "execution_count": 312,
   "id": "db565890",
   "metadata": {},
   "outputs": [
    {
     "data": {
      "image/png": "[encoded data removed]",
      "text/plain": [
       "<Figure size 640x480 with 2 Axes>"
      ]
     },
     "metadata": {},
     "output_type": "display_data"
    }
   ],
   "source": [
    "matrix = df[(df['mainprice']>30000000) & (df['mainprice']<60000000)][['to_metro_on_foot', 'price_per_meter']].dropna().corr()\n",
    "sns.heatmap(matrix, annot=True, vmax=1, vmin=-1, center=0, cmap='vlag')\n",
    "plt.show()"
   ]
  },
  {
   "cell_type": "markdown",
   "id": "9c62456c",
   "metadata": {},
   "source": [
    "##### На тепловой карте корреляции мы видим, что обратная взаимосвязь времени до метро пешком и цены м² недвижимости усилилась больше чем втрое."
   ]
  },
  {
   "cell_type": "markdown",
   "id": "c7dbd888",
   "metadata": {},
   "source": [
    "##### Наконец оценим эту зависимость для элитной недвижимости стоимостью более 60 миллионов рублей."
   ]
  },
  {
   "cell_type": "code",
   "execution_count": 313,
   "id": "e1ab8d18",
   "metadata": {},
   "outputs": [
    {
     "data": {
      "image/png": "[encoded data removed]",
      "text/plain": [
       "<Figure size 640x480 with 2 Axes>"
      ]
     },
     "metadata": {},
     "output_type": "display_data"
    }
   ],
   "source": [
    "matrix = df[df['mainprice']>60000000][['to_metro_on_foot', 'price_per_meter']].dropna().corr()\n",
    "sns.heatmap(matrix, annot=True, vmax=1, vmin=-1, center=0, cmap='vlag')\n",
    "plt.show()"
   ]
  },
  {
   "cell_type": "markdown",
   "id": "7150ee60",
   "metadata": {},
   "source": [
    "##### На тепловой карте корреляции мы видим, что для элитной недвижимости ситуацияя иная: чем дальше жилье от метро, тем больше его цена. "
   ]
  },
  {
   "cell_type": "markdown",
   "id": "6aa4254a",
   "metadata": {},
   "source": [
    "#### Таким образом, для недвижимости стоимостью менее 30 млн руб между временем до метро пешком и ценой жилья существует слабая отрицательная связь (-0,11), для ценового сегмента от 30 до 60 млн руб между переменными существует отрицательная связь средней силы (-0,36), для премиум-сегмента недвижимости стоимостью более 60 млн рублей между временем до метро пешком и ценой жилья существует положительная связь средней силы (0,37). Действительно для более низкого ценового сегмента существует связь «чем ближе к метро жильё, тем оно дороже», для элитной недвижимости такая связь, как и предполагалось, отсутствует."
   ]
  },
  {
   "cell_type": "markdown",
   "id": "79fac7ee",
   "metadata": {},
   "source": [
    "##### 6. Посмотрим, зависит ли стоимость квадратного метра жилья от этажа."
   ]
  },
  {
   "cell_type": "code",
   "execution_count": 314,
   "id": "a7bd66a8",
   "metadata": {},
   "outputs": [
    {
     "data": {
      "image/png": "[encoded data removed]",
      "text/plain": [
       "<Figure size 640x480 with 1 Axes>"
      ]
     },
     "metadata": {},
     "output_type": "display_data"
    }
   ],
   "source": [
    "df1 = df[['floor', 'price_per_meter']]\n",
    "df1 = df1.dropna()\n",
    "\n",
    "fig, ax = plt.subplots()  \n",
    "ax.scatter(x = df1['price_per_meter'], y = df1['floor'])\n",
    "plt.title('Диаграмма рассеяния | Этаж и стоимость м²')\n",
    "plt.xlabel('Стоимость м²')\n",
    "plt.ylabel('Этаж');"
   ]
  },
  {
   "cell_type": "markdown",
   "id": "bdf3015a",
   "metadata": {},
   "source": [
    "##### Несмотря на наличие выбросов, можно предположить, что между данными показателями существует слабая положительная линейная связь. Это может быть справедливо, так как в новостройках на последних этажах обычно более высокие потолки, а это повышает стоимость жилья. Такого признака не было в исходной таблице, поэтому переходим к пункту...."
   ]
  },
  {
   "cell_type": "markdown",
   "id": "65770ec6",
   "metadata": {},
   "source": [
    "## Создание новых признаков"
   ]
  },
  {
   "cell_type": "markdown",
   "id": "38a9fa05",
   "metadata": {},
   "source": [
    "#####  В пунтке \"Предварительная обработка\" мы уже создавали новые признаки - время до метро пешком и время до метро на транспорте."
   ]
  },
  {
   "cell_type": "markdown",
   "id": "734b739e",
   "metadata": {},
   "source": [
    "##### Теперь мы хотим создать признак \"Upper floors\", который будет делить квартиры на те, которые находятся на последних двух этажах здания и те, которые не находятся. Если квартира находится на последнем или предпоследнем этаже, в колонке будет стоять 1, в ином случае - 0."
   ]
  },
  {
   "cell_type": "code",
   "execution_count": 315,
   "id": "a4a5e6ef",
   "metadata": {},
   "outputs": [
    {
     "name": "stderr",
     "output_type": "stream",
     "text": [
      "C:\\Users\\ousko\\AppData\\Local\\Temp\\ipykernel_1784\\2156340110.py:4: SettingWithCopyWarning: \n",
      "A value is trying to be set on a copy of a slice from a DataFrame\n",
      "\n",
      "See the caveats in the documentation: https://pandas.pydata.org/pandas-docs/stable/user_guide/indexing.html#returning-a-view-versus-a-copy\n",
      "  df['upper_floors'][i] = 1\n"
     ]
    }
   ],
   "source": [
    "df['upper_floors'] = np.zeros(8229)\n",
    "for i in range(8229):\n",
    "    if df['floors_total'][i] - df['floor'][i] <= 1:\n",
    "        df['upper_floors'][i] = 1"
   ]
  },
  {
   "cell_type": "code",
   "execution_count": 320,
   "id": "7078909f",
   "metadata": {},
   "outputs": [
    {
     "data": {
      "text/plain": [
       "upper_floors\n",
       "0.0    4.682811e+07\n",
       "1.0    3.986843e+07\n",
       "Name: mainprice, dtype: float64"
      ]
     },
     "execution_count": 320,
     "metadata": {},
     "output_type": "execute_result"
    }
   ],
   "source": [
    "df1 = df[(df['floor'] > 0) & (df['floors_total']) > 0]  # убираем NaN в столбцах \"floor\" и \"floors_total\"\n",
    "df1.groupby('upper_floors')['mainprice'].mean()   # средняя стоимость жилья не на двух последних этажах(0)\n",
    "                                                  # средняя стоимость жилья на двух последних этажах (1)"
   ]
  },
  {
   "cell_type": "code",
   "execution_count": 321,
   "id": "3808e8dd",
   "metadata": {},
   "outputs": [
    {
     "data": {
      "text/plain": [
       "upper_floors\n",
       "0.0    800544.755931\n",
       "1.0    771861.563050\n",
       "Name: price_per_meter, dtype: float64"
      ]
     },
     "execution_count": 321,
     "metadata": {},
     "output_type": "execute_result"
    }
   ],
   "source": [
    "df1.groupby('upper_floors')['price_per_meter'].mean()   # средняя цена м² на последних этажах (1) \n",
    "                                                        # и на всех остальных (0)."
   ]
  },
  {
   "cell_type": "markdown",
   "id": "a013fd17",
   "metadata": {},
   "source": [
    "##### Средняя стоимость недвижимости на последнем и предпоследнем этажах оказалась меньше, чем на остальных, но значения достаточно близки. В следующем пункте проверим гипотезу о  равенстве цен м² на двух последних и остальных этажах."
   ]
  },
  {
   "cell_type": "markdown",
   "id": "394653d0",
   "metadata": {},
   "source": [
    "## Гипотезы"
   ]
  },
  {
   "cell_type": "markdown",
   "id": "bb9fb21c",
   "metadata": {},
   "source": [
    "#### Итак, по итогам исследования данных мы выдвинули 4 гипотезы:\n",
    "1. Дисперсия цены м² в москвоских новостройках в ЦАО не меньше, чем в ЗАО.\n",
    "2. Квадратный метр в апартаментах стоит не дешевле квадратного метра в квартире. \n",
    "3. Цены м² в квартирах и апартаментах, находящихся на последних двух этажах и не находящихся на последних этажах, равны."
   ]
  },
  {
   "cell_type": "markdown",
   "id": "4ea8386a",
   "metadata": {},
   "source": [
    "### Гипотеза 1\n",
    "Уровень значимости: $5\\%$\n",
    "\n",
    "$$\n",
    "\\begin{aligned}\n",
    "& H_0: σ^2_{ЦАО} ≥ σ^2_{ЗАО} \\\\\n",
    "& H_1: σ^2_{ЦАО} < σ^2_{ЗАО}\n",
    "\\end{aligned}\n",
    "$$"
   ]
  },
  {
   "cell_type": "code",
   "execution_count": 322,
   "id": "547a92bf",
   "metadata": {},
   "outputs": [
    {
     "name": "stdout",
     "output_type": "stream",
     "text": [
      "Количество жилых помещений в ЦАО:  2344\n",
      "Количество жилых помещений в ЗАО:  1543\n"
     ]
    }
   ],
   "source": [
    "print('Количество жилых помещений в ЦАО: ', len(df[df['district'] == 'ЦАО']))\n",
    "print('Количество жилых помещений в ЗАО: ', len(df[df['district'] == 'ЗАО']))"
   ]
  },
  {
   "cell_type": "code",
   "execution_count": 323,
   "id": "476c3d8e",
   "metadata": {},
   "outputs": [
    {
     "data": {
      "text/plain": [
       "district\n",
       "ЦАО    484603.005116\n",
       "ЗАО    323212.308709\n",
       "Name: price_per_meter, dtype: float64"
      ]
     },
     "execution_count": 323,
     "metadata": {},
     "output_type": "execute_result"
    }
   ],
   "source": [
    "# Найдём стандартные отклонения цены м² в ЦАО и ЗАО: \n",
    "df.groupby('district')['price_per_meter'].std()[['ЦАО', 'ЗАО']] "
   ]
  },
  {
   "cell_type": "code",
   "execution_count": 327,
   "id": "2f23dd86",
   "metadata": {},
   "outputs": [
    {
     "name": "stdout",
     "output_type": "stream",
     "text": [
      "H0 не отвергается\n"
     ]
    }
   ],
   "source": [
    "alpha = 0.05\n",
    "F_crit = sts.f.ppf(1-alpha, 1543-1, 2344-1)\n",
    "F_stat = 323212.308709**2/484603.005116**2  # чтобы в H1 был знак >\n",
    "if F_stat < F_crit:\n",
    "    print('H0 не отвергается')\n",
    "else:\n",
    "    print('H0 отвергается')"
   ]
  },
  {
   "cell_type": "markdown",
   "id": "cc532079",
   "metadata": {},
   "source": [
    "#### Таким образом, дисперсия цены м² в квартирах и апартаментах в ЦАО действительно не меньше, чем в ЗАО. Это объясняется тем, что в Центральном административном округе цена м² наиболее сильно зависит от близости к центру. В ЗАО разброс цен ниже, так как отсутствуют настолько же сильные \"точки притяжения\", как в ЦАО."
   ]
  },
  {
   "cell_type": "markdown",
   "id": "aeeb7613",
   "metadata": {},
   "source": [
    "## Гипотеза 2\n",
    "Уровень значимости: $5\\%$\n",
    "\n",
    "$$\n",
    "\\begin{aligned}\n",
    "& H_0: \\mu_{A} ≥ \\mu_{F} \\\\\n",
    "& H_1: \\mu_{A} < \\mu_{F}\n",
    "\\end{aligned}\n",
    "$$\n",
    "##### μA - математическое ожидание цены м² в апартаментах.\n",
    "##### μF - математическое ожидание цены м² в квартирах."
   ]
  },
  {
   "cell_type": "markdown",
   "id": "8054a28c",
   "metadata": {},
   "source": [
    "#### Наблюдения независимые и их количество достаточно большое, поэтому можно использовать z-тест."
   ]
  },
  {
   "cell_type": "code",
   "execution_count": 328,
   "id": "e9093551",
   "metadata": {},
   "outputs": [
    {
     "name": "stdout",
     "output_type": "stream",
     "text": [
      "Количество апартаментов: 1003\n",
      "Количество квартир: 3889\n"
     ]
    }
   ],
   "source": [
    "print('Количество апартаментов:', len(df[df['flat_or_appart'] == 'A']))\n",
    "print('Количество квартир:', len(df[df['flat_or_appart'] == 'F']))"
   ]
  },
  {
   "cell_type": "code",
   "execution_count": 329,
   "id": "dfefbf42",
   "metadata": {},
   "outputs": [],
   "source": [
    "apart_mean = df[df['flat_or_appart'] == 'A']['price_per_meter'].mean()\n",
    "flat_mean = df[df['flat_or_appart'] == 'F']['price_per_meter'].mean()\n",
    "apart_var = df[df['flat_or_appart'] == 'A']['price_per_meter'].var()\n",
    "flat_var = df[df['flat_or_appart'] == 'F']['price_per_meter'].var()"
   ]
  },
  {
   "cell_type": "code",
   "execution_count": 330,
   "id": "bd4cc9fb",
   "metadata": {},
   "outputs": [
    {
     "name": "stdout",
     "output_type": "stream",
     "text": [
      "H0 не отвергается\n"
     ]
    }
   ],
   "source": [
    "alpha = 0.05\n",
    "z_crit = sts.norm.ppf(1-alpha)\n",
    "z_stat = (flat_mean - apart_mean)/np.sqrt(apart_var/1003 + flat_var/3889)\n",
    "if z_stat < z_crit:\n",
    "    print('H0 не отвергается')\n",
    "else:\n",
    "    print('H0 отвергается')"
   ]
  },
  {
   "cell_type": "markdown",
   "id": "34390665",
   "metadata": {},
   "source": [
    "#### Значит, можно говорить о том, что в новостройках Москвы стоимость квадратного метра в апартаментах выше аналогичного показателя в квартирах."
   ]
  },
  {
   "cell_type": "markdown",
   "id": "e7ea00a7",
   "metadata": {},
   "source": [
    "## Гипотеза 3\n",
    "Уровень значимости: $5\\%$\n",
    "\n",
    "$$\n",
    "\\begin{aligned}\n",
    "& H_0: \\mu_{1} = \\mu_{0} \\\\\n",
    "& H_1: \\mu_{1} \\neq \\mu_{0}\n",
    "\\end{aligned}\n",
    "$$\n",
    "##### μ0 - математическое ожидание цены м²  в жилье, находящемся не на последних этажах.\n",
    "##### μ1 - математическое ожидание цены м² в жилье, находящемся на последних этажах."
   ]
  },
  {
   "cell_type": "code",
   "execution_count": 332,
   "id": "a01002d1",
   "metadata": {},
   "outputs": [
    {
     "name": "stdout",
     "output_type": "stream",
     "text": [
      "Количество квартир и апартаментов, находящихся не на последнем и предпоследнем этажах: 4552\n",
      "Количество квартир и апартаментов на последнем и предпоследнем этажах:  341\n"
     ]
    }
   ],
   "source": [
    "print('Количество квартир и апартаментов, находящихся не на последнем и предпоследнем этажах:', len(df1[df1['upper_floors'] == 0]))\n",
    "print('Количество квартир и апартаментов на последнем и предпоследнем этажах: ', len(df1[df1['upper_floors'] == 1]))"
   ]
  },
  {
   "cell_type": "markdown",
   "id": "e33a211c",
   "metadata": {},
   "source": [
    "#### Наблюдения независимые и их количество  достаточно большое, что говорит о том, что истинные дисперсии хорошо аппроксимируются выборочными, поэтому можно использовать z-тест."
   ]
  },
  {
   "cell_type": "code",
   "execution_count": 333,
   "id": "7ea23efb",
   "metadata": {},
   "outputs": [
    {
     "data": {
      "text/plain": [
       "upper_floors\n",
       "0.0    493216.858283\n",
       "1.0    363055.382666\n",
       "Name: price_per_meter, dtype: float64"
      ]
     },
     "execution_count": 333,
     "metadata": {},
     "output_type": "execute_result"
    }
   ],
   "source": [
    "df1.groupby('upper_floors')['price_per_meter'].std()   # берём датафрейм, в котором нет NaN в столбцах \"floor\" и \"floors_total\""
   ]
  },
  {
   "cell_type": "code",
   "execution_count": 334,
   "id": "bd23891a",
   "metadata": {},
   "outputs": [
    {
     "name": "stdout",
     "output_type": "stream",
     "text": [
      "H0 не отвергается\n"
     ]
    }
   ],
   "source": [
    "alpha = 0.05\n",
    "z_crit = sts.norm.ppf(1-alpha/2)\n",
    "z_stat = (771861.563050 - 800544.755931)/np.sqrt(363055.382666**2/341 + 493216.858283**2/4552) # средние были посчитаны в\n",
    "                                                                                            # пункте \"Создание новых признаков\"\n",
    "if (z_stat < z_crit) & (z_stat > -z_crit):\n",
    "    print('H0 не отвергается')\n",
    "else:\n",
    "    print('H0 отвергается')"
   ]
  },
  {
   "cell_type": "markdown",
   "id": "ca659746",
   "metadata": {},
   "source": [
    "#### Следовательно, нельзя говорить о том, что стоимость м² в жилье, находящемся на последних этажах, не равна стоимости м² в жилье, не находящемся на последних этажах."
   ]
  },
  {
   "cell_type": "markdown",
   "id": "45e26707",
   "metadata": {},
   "source": [
    "## Машинное обучение"
   ]
  },
  {
   "cell_type": "markdown",
   "id": "152d178c",
   "metadata": {},
   "source": [
    "#### Попытаемся обучить модель линейной регрессии предсказывать стоимость квадратного метра на основе данных об этаже, этажности здания, округе, времени до метро (пешком) и типе жилья (апартаменты или квартира)."
   ]
  },
  {
   "cell_type": "markdown",
   "id": "9f0f8b7a",
   "metadata": {},
   "source": [
    "##### 1. Создадим новый столбец: если квартира - 1, если апартаменты - 0."
   ]
  },
  {
   "cell_type": "code",
   "execution_count": 335,
   "id": "7e4f1b51",
   "metadata": {},
   "outputs": [
    {
     "name": "stderr",
     "output_type": "stream",
     "text": [
      "C:\\Users\\ousko\\AppData\\Local\\Temp\\ipykernel_1784\\1358729766.py:4: SettingWithCopyWarning: \n",
      "A value is trying to be set on a copy of a slice from a DataFrame\n",
      "\n",
      "See the caveats in the documentation: https://pandas.pydata.org/pandas-docs/stable/user_guide/indexing.html#returning-a-view-versus-a-copy\n",
      "  df['F/A'][i] = 1\n"
     ]
    }
   ],
   "source": [
    "df['F/A'] = np.zeros(8229)\n",
    "for i in range(8229):\n",
    "    if df['flat_or_appart'][i] == 'F':\n",
    "        df['F/A'][i] = 1"
   ]
  },
  {
   "cell_type": "code",
   "execution_count": 336,
   "id": "b0016ffb",
   "metadata": {},
   "outputs": [],
   "source": [
    "df2 = df[['floor', 'floors_total', 'district', 'price_per_meter', 'to_metro_on_foot', 'F/A']]  # оставляем нужные столбцы\n",
    "df2 = df2.dropna()   # удаляем пропуски"
   ]
  },
  {
   "cell_type": "code",
   "execution_count": 337,
   "id": "ed5229e3",
   "metadata": {},
   "outputs": [
    {
     "data": {
      "text/plain": [
       "array(['ЦАО', 'САО', 'ЮАО', 'СЗАО', 'ВАО', 'ЗАО', 'НАО (Новомосковский)',\n",
       "       'ЮЗАО', 'СВАО', 'ЮВАО', 'ТАО (Троицкий)'], dtype=object)"
      ]
     },
     "execution_count": 337,
     "metadata": {},
     "output_type": "execute_result"
    }
   ],
   "source": [
    "df2.district.unique()   # округа, попавшие в выборку"
   ]
  },
  {
   "cell_type": "markdown",
   "id": "d1f3458f",
   "metadata": {},
   "source": [
    "##### 2. Создадим дамми-переменные."
   ]
  },
  {
   "cell_type": "code",
   "execution_count": 338,
   "id": "52e41b7e",
   "metadata": {},
   "outputs": [
    {
     "data": {
      "text/html": [
       "<div>\n",
       "<style scoped>\n",
       "    .dataframe tbody tr th:only-of-type {\n",
       "        vertical-align: middle;\n",
       "    }\n",
       "\n",
       "    .dataframe tbody tr th {\n",
       "        vertical-align: top;\n",
       "    }\n",
       "\n",
       "    .dataframe thead th {\n",
       "        text-align: right;\n",
       "    }\n",
       "</style>\n",
       "<table border=\"1\" class=\"dataframe\">\n",
       "  <thead>\n",
       "    <tr style=\"text-align: right;\">\n",
       "      <th></th>\n",
       "      <th>index</th>\n",
       "      <th>floor</th>\n",
       "      <th>floors_total</th>\n",
       "      <th>district</th>\n",
       "      <th>price_per_meter</th>\n",
       "      <th>to_metro_on_foot</th>\n",
       "      <th>F/A</th>\n",
       "      <th>ЦАО</th>\n",
       "      <th>САО</th>\n",
       "      <th>ЮАО</th>\n",
       "      <th>СЗАО</th>\n",
       "      <th>ВАО</th>\n",
       "      <th>ЗАО</th>\n",
       "      <th>НАО (Новомосковский)</th>\n",
       "      <th>ЮЗАО</th>\n",
       "      <th>СВАО</th>\n",
       "      <th>ЮВАО</th>\n",
       "      <th>ТАО (Троицкий)</th>\n",
       "    </tr>\n",
       "  </thead>\n",
       "  <tbody>\n",
       "    <tr>\n",
       "      <th>0</th>\n",
       "      <td>2</td>\n",
       "      <td>41.0</td>\n",
       "      <td>66.0</td>\n",
       "      <td>ЦАО</td>\n",
       "      <td>854000</td>\n",
       "      <td>3.0</td>\n",
       "      <td>0.0</td>\n",
       "      <td>0</td>\n",
       "      <td>0</td>\n",
       "      <td>0</td>\n",
       "      <td>0</td>\n",
       "      <td>0</td>\n",
       "      <td>0</td>\n",
       "      <td>0</td>\n",
       "      <td>0</td>\n",
       "      <td>0</td>\n",
       "      <td>0</td>\n",
       "      <td>0</td>\n",
       "    </tr>\n",
       "    <tr>\n",
       "      <th>1</th>\n",
       "      <td>3</td>\n",
       "      <td>2.0</td>\n",
       "      <td>18.0</td>\n",
       "      <td>ЦАО</td>\n",
       "      <td>672108</td>\n",
       "      <td>15.0</td>\n",
       "      <td>1.0</td>\n",
       "      <td>0</td>\n",
       "      <td>0</td>\n",
       "      <td>0</td>\n",
       "      <td>0</td>\n",
       "      <td>0</td>\n",
       "      <td>0</td>\n",
       "      <td>0</td>\n",
       "      <td>0</td>\n",
       "      <td>0</td>\n",
       "      <td>0</td>\n",
       "      <td>0</td>\n",
       "    </tr>\n",
       "    <tr>\n",
       "      <th>2</th>\n",
       "      <td>6</td>\n",
       "      <td>2.0</td>\n",
       "      <td>17.0</td>\n",
       "      <td>САО</td>\n",
       "      <td>631196</td>\n",
       "      <td>4.0</td>\n",
       "      <td>0.0</td>\n",
       "      <td>0</td>\n",
       "      <td>0</td>\n",
       "      <td>0</td>\n",
       "      <td>0</td>\n",
       "      <td>0</td>\n",
       "      <td>0</td>\n",
       "      <td>0</td>\n",
       "      <td>0</td>\n",
       "      <td>0</td>\n",
       "      <td>0</td>\n",
       "      <td>0</td>\n",
       "    </tr>\n",
       "    <tr>\n",
       "      <th>3</th>\n",
       "      <td>8</td>\n",
       "      <td>5.0</td>\n",
       "      <td>11.0</td>\n",
       "      <td>ЮАО</td>\n",
       "      <td>763222</td>\n",
       "      <td>15.0</td>\n",
       "      <td>1.0</td>\n",
       "      <td>0</td>\n",
       "      <td>0</td>\n",
       "      <td>0</td>\n",
       "      <td>0</td>\n",
       "      <td>0</td>\n",
       "      <td>0</td>\n",
       "      <td>0</td>\n",
       "      <td>0</td>\n",
       "      <td>0</td>\n",
       "      <td>0</td>\n",
       "      <td>0</td>\n",
       "    </tr>\n",
       "    <tr>\n",
       "      <th>4</th>\n",
       "      <td>10</td>\n",
       "      <td>5.0</td>\n",
       "      <td>8.0</td>\n",
       "      <td>ЦАО</td>\n",
       "      <td>1342000</td>\n",
       "      <td>15.0</td>\n",
       "      <td>1.0</td>\n",
       "      <td>0</td>\n",
       "      <td>0</td>\n",
       "      <td>0</td>\n",
       "      <td>0</td>\n",
       "      <td>0</td>\n",
       "      <td>0</td>\n",
       "      <td>0</td>\n",
       "      <td>0</td>\n",
       "      <td>0</td>\n",
       "      <td>0</td>\n",
       "      <td>0</td>\n",
       "    </tr>\n",
       "    <tr>\n",
       "      <th>...</th>\n",
       "      <td>...</td>\n",
       "      <td>...</td>\n",
       "      <td>...</td>\n",
       "      <td>...</td>\n",
       "      <td>...</td>\n",
       "      <td>...</td>\n",
       "      <td>...</td>\n",
       "      <td>...</td>\n",
       "      <td>...</td>\n",
       "      <td>...</td>\n",
       "      <td>...</td>\n",
       "      <td>...</td>\n",
       "      <td>...</td>\n",
       "      <td>...</td>\n",
       "      <td>...</td>\n",
       "      <td>...</td>\n",
       "      <td>...</td>\n",
       "      <td>...</td>\n",
       "    </tr>\n",
       "    <tr>\n",
       "      <th>4045</th>\n",
       "      <td>8223</td>\n",
       "      <td>5.0</td>\n",
       "      <td>17.0</td>\n",
       "      <td>ВАО</td>\n",
       "      <td>423768</td>\n",
       "      <td>5.0</td>\n",
       "      <td>1.0</td>\n",
       "      <td>0</td>\n",
       "      <td>0</td>\n",
       "      <td>0</td>\n",
       "      <td>0</td>\n",
       "      <td>0</td>\n",
       "      <td>0</td>\n",
       "      <td>0</td>\n",
       "      <td>0</td>\n",
       "      <td>0</td>\n",
       "      <td>0</td>\n",
       "      <td>0</td>\n",
       "    </tr>\n",
       "    <tr>\n",
       "      <th>4046</th>\n",
       "      <td>8225</td>\n",
       "      <td>3.0</td>\n",
       "      <td>24.0</td>\n",
       "      <td>ЮАО</td>\n",
       "      <td>476113</td>\n",
       "      <td>5.0</td>\n",
       "      <td>1.0</td>\n",
       "      <td>0</td>\n",
       "      <td>0</td>\n",
       "      <td>0</td>\n",
       "      <td>0</td>\n",
       "      <td>0</td>\n",
       "      <td>0</td>\n",
       "      <td>0</td>\n",
       "      <td>0</td>\n",
       "      <td>0</td>\n",
       "      <td>0</td>\n",
       "      <td>0</td>\n",
       "    </tr>\n",
       "    <tr>\n",
       "      <th>4047</th>\n",
       "      <td>8226</td>\n",
       "      <td>12.0</td>\n",
       "      <td>18.0</td>\n",
       "      <td>ЗАО</td>\n",
       "      <td>1040000</td>\n",
       "      <td>16.0</td>\n",
       "      <td>1.0</td>\n",
       "      <td>0</td>\n",
       "      <td>0</td>\n",
       "      <td>0</td>\n",
       "      <td>0</td>\n",
       "      <td>0</td>\n",
       "      <td>0</td>\n",
       "      <td>0</td>\n",
       "      <td>0</td>\n",
       "      <td>0</td>\n",
       "      <td>0</td>\n",
       "      <td>0</td>\n",
       "    </tr>\n",
       "    <tr>\n",
       "      <th>4048</th>\n",
       "      <td>8227</td>\n",
       "      <td>16.0</td>\n",
       "      <td>24.0</td>\n",
       "      <td>ЮАО</td>\n",
       "      <td>660547</td>\n",
       "      <td>9.0</td>\n",
       "      <td>1.0</td>\n",
       "      <td>0</td>\n",
       "      <td>0</td>\n",
       "      <td>0</td>\n",
       "      <td>0</td>\n",
       "      <td>0</td>\n",
       "      <td>0</td>\n",
       "      <td>0</td>\n",
       "      <td>0</td>\n",
       "      <td>0</td>\n",
       "      <td>0</td>\n",
       "      <td>0</td>\n",
       "    </tr>\n",
       "    <tr>\n",
       "      <th>4049</th>\n",
       "      <td>8228</td>\n",
       "      <td>3.0</td>\n",
       "      <td>6.0</td>\n",
       "      <td>ЦАО</td>\n",
       "      <td>922200</td>\n",
       "      <td>15.0</td>\n",
       "      <td>0.0</td>\n",
       "      <td>0</td>\n",
       "      <td>0</td>\n",
       "      <td>0</td>\n",
       "      <td>0</td>\n",
       "      <td>0</td>\n",
       "      <td>0</td>\n",
       "      <td>0</td>\n",
       "      <td>0</td>\n",
       "      <td>0</td>\n",
       "      <td>0</td>\n",
       "      <td>0</td>\n",
       "    </tr>\n",
       "  </tbody>\n",
       "</table>\n",
       "<p>4050 rows × 18 columns</p>\n",
       "</div>"
      ],
      "text/plain": [
       "      index  floor  floors_total district  price_per_meter  to_metro_on_foot  \\\n",
       "0         2   41.0          66.0      ЦАО           854000               3.0   \n",
       "1         3    2.0          18.0      ЦАО           672108              15.0   \n",
       "2         6    2.0          17.0      САО           631196               4.0   \n",
       "3         8    5.0          11.0      ЮАО           763222              15.0   \n",
       "4        10    5.0           8.0      ЦАО          1342000              15.0   \n",
       "...     ...    ...           ...      ...              ...               ...   \n",
       "4045   8223    5.0          17.0      ВАО           423768               5.0   \n",
       "4046   8225    3.0          24.0      ЮАО           476113               5.0   \n",
       "4047   8226   12.0          18.0      ЗАО          1040000              16.0   \n",
       "4048   8227   16.0          24.0      ЮАО           660547               9.0   \n",
       "4049   8228    3.0           6.0      ЦАО           922200              15.0   \n",
       "\n",
       "      F/A  ЦАО  САО  ЮАО  СЗАО  ВАО  ЗАО  НАО (Новомосковский)  ЮЗАО  СВАО  \\\n",
       "0     0.0    0    0    0     0    0    0                     0     0     0   \n",
       "1     1.0    0    0    0     0    0    0                     0     0     0   \n",
       "2     0.0    0    0    0     0    0    0                     0     0     0   \n",
       "3     1.0    0    0    0     0    0    0                     0     0     0   \n",
       "4     1.0    0    0    0     0    0    0                     0     0     0   \n",
       "...   ...  ...  ...  ...   ...  ...  ...                   ...   ...   ...   \n",
       "4045  1.0    0    0    0     0    0    0                     0     0     0   \n",
       "4046  1.0    0    0    0     0    0    0                     0     0     0   \n",
       "4047  1.0    0    0    0     0    0    0                     0     0     0   \n",
       "4048  1.0    0    0    0     0    0    0                     0     0     0   \n",
       "4049  0.0    0    0    0     0    0    0                     0     0     0   \n",
       "\n",
       "      ЮВАО  ТАО (Троицкий)  \n",
       "0        0               0  \n",
       "1        0               0  \n",
       "2        0               0  \n",
       "3        0               0  \n",
       "4        0               0  \n",
       "...    ...             ...  \n",
       "4045     0               0  \n",
       "4046     0               0  \n",
       "4047     0               0  \n",
       "4048     0               0  \n",
       "4049     0               0  \n",
       "\n",
       "[4050 rows x 18 columns]"
      ]
     },
     "execution_count": 338,
     "metadata": {},
     "output_type": "execute_result"
    }
   ],
   "source": [
    "df2[['ЦАО','САО', 'ЮАО', 'СЗАО', 'ВАО', 'ЗАО', 'НАО (Новомосковский)', 'ЮЗАО', 'СВАО', 'ЮВАО', 'ТАО (Троицкий)' ]] = 0\n",
    "df2 = df2.reset_index()\n",
    "#df2 = df2.drop(columns = ['index'], axis=1)\n",
    "df2"
   ]
  },
  {
   "cell_type": "code",
   "execution_count": 339,
   "id": "a0fb72b7",
   "metadata": {},
   "outputs": [
    {
     "name": "stderr",
     "output_type": "stream",
     "text": [
      "C:\\Users\\ousko\\AppData\\Local\\Temp\\ipykernel_1784\\927827694.py:3: SettingWithCopyWarning: \n",
      "A value is trying to be set on a copy of a slice from a DataFrame\n",
      "\n",
      "See the caveats in the documentation: https://pandas.pydata.org/pandas-docs/stable/user_guide/indexing.html#returning-a-view-versus-a-copy\n",
      "  df2['ЦАО'][i] = 1\n",
      "C:\\Users\\ousko\\AppData\\Local\\Temp\\ipykernel_1784\\927827694.py:5: SettingWithCopyWarning: \n",
      "A value is trying to be set on a copy of a slice from a DataFrame\n",
      "\n",
      "See the caveats in the documentation: https://pandas.pydata.org/pandas-docs/stable/user_guide/indexing.html#returning-a-view-versus-a-copy\n",
      "  df2['САО'][i] = 1\n",
      "C:\\Users\\ousko\\AppData\\Local\\Temp\\ipykernel_1784\\927827694.py:7: SettingWithCopyWarning: \n",
      "A value is trying to be set on a copy of a slice from a DataFrame\n",
      "\n",
      "See the caveats in the documentation: https://pandas.pydata.org/pandas-docs/stable/user_guide/indexing.html#returning-a-view-versus-a-copy\n",
      "  df2['ЮАО'][i] = 1\n",
      "C:\\Users\\ousko\\AppData\\Local\\Temp\\ipykernel_1784\\927827694.py:9: SettingWithCopyWarning: \n",
      "A value is trying to be set on a copy of a slice from a DataFrame\n",
      "\n",
      "See the caveats in the documentation: https://pandas.pydata.org/pandas-docs/stable/user_guide/indexing.html#returning-a-view-versus-a-copy\n",
      "  df2['СЗАО'][i] = 1\n",
      "C:\\Users\\ousko\\AppData\\Local\\Temp\\ipykernel_1784\\927827694.py:11: SettingWithCopyWarning: \n",
      "A value is trying to be set on a copy of a slice from a DataFrame\n",
      "\n",
      "See the caveats in the documentation: https://pandas.pydata.org/pandas-docs/stable/user_guide/indexing.html#returning-a-view-versus-a-copy\n",
      "  df2['ВАО'][i] = 1\n",
      "C:\\Users\\ousko\\AppData\\Local\\Temp\\ipykernel_1784\\927827694.py:13: SettingWithCopyWarning: \n",
      "A value is trying to be set on a copy of a slice from a DataFrame\n",
      "\n",
      "See the caveats in the documentation: https://pandas.pydata.org/pandas-docs/stable/user_guide/indexing.html#returning-a-view-versus-a-copy\n",
      "  df2['ЗАО'][i] = 1\n",
      "C:\\Users\\ousko\\AppData\\Local\\Temp\\ipykernel_1784\\927827694.py:15: SettingWithCopyWarning: \n",
      "A value is trying to be set on a copy of a slice from a DataFrame\n",
      "\n",
      "See the caveats in the documentation: https://pandas.pydata.org/pandas-docs/stable/user_guide/indexing.html#returning-a-view-versus-a-copy\n",
      "  df2['НАО (Новомосковский)'][i] = 1\n",
      "C:\\Users\\ousko\\AppData\\Local\\Temp\\ipykernel_1784\\927827694.py:17: SettingWithCopyWarning: \n",
      "A value is trying to be set on a copy of a slice from a DataFrame\n",
      "\n",
      "See the caveats in the documentation: https://pandas.pydata.org/pandas-docs/stable/user_guide/indexing.html#returning-a-view-versus-a-copy\n",
      "  df2['ЮЗАО'][i] = 1\n",
      "C:\\Users\\ousko\\AppData\\Local\\Temp\\ipykernel_1784\\927827694.py:19: SettingWithCopyWarning: \n",
      "A value is trying to be set on a copy of a slice from a DataFrame\n",
      "\n",
      "See the caveats in the documentation: https://pandas.pydata.org/pandas-docs/stable/user_guide/indexing.html#returning-a-view-versus-a-copy\n",
      "  df2['СВАО'][i] = 1\n",
      "C:\\Users\\ousko\\AppData\\Local\\Temp\\ipykernel_1784\\927827694.py:21: SettingWithCopyWarning: \n",
      "A value is trying to be set on a copy of a slice from a DataFrame\n",
      "\n",
      "See the caveats in the documentation: https://pandas.pydata.org/pandas-docs/stable/user_guide/indexing.html#returning-a-view-versus-a-copy\n",
      "  df2['ЮВАО'][i] = 1\n"
     ]
    },
    {
     "data": {
      "text/html": [
       "<div>\n",
       "<style scoped>\n",
       "    .dataframe tbody tr th:only-of-type {\n",
       "        vertical-align: middle;\n",
       "    }\n",
       "\n",
       "    .dataframe tbody tr th {\n",
       "        vertical-align: top;\n",
       "    }\n",
       "\n",
       "    .dataframe thead th {\n",
       "        text-align: right;\n",
       "    }\n",
       "</style>\n",
       "<table border=\"1\" class=\"dataframe\">\n",
       "  <thead>\n",
       "    <tr style=\"text-align: right;\">\n",
       "      <th></th>\n",
       "      <th>index</th>\n",
       "      <th>floor</th>\n",
       "      <th>floors_total</th>\n",
       "      <th>district</th>\n",
       "      <th>price_per_meter</th>\n",
       "      <th>to_metro_on_foot</th>\n",
       "      <th>F/A</th>\n",
       "      <th>ЦАО</th>\n",
       "      <th>САО</th>\n",
       "      <th>ЮАО</th>\n",
       "      <th>СЗАО</th>\n",
       "      <th>ВАО</th>\n",
       "      <th>ЗАО</th>\n",
       "      <th>НАО (Новомосковский)</th>\n",
       "      <th>ЮЗАО</th>\n",
       "      <th>СВАО</th>\n",
       "      <th>ЮВАО</th>\n",
       "      <th>ТАО (Троицкий)</th>\n",
       "    </tr>\n",
       "  </thead>\n",
       "  <tbody>\n",
       "    <tr>\n",
       "      <th>0</th>\n",
       "      <td>2</td>\n",
       "      <td>41.0</td>\n",
       "      <td>66.0</td>\n",
       "      <td>ЦАО</td>\n",
       "      <td>854000</td>\n",
       "      <td>3.0</td>\n",
       "      <td>0.0</td>\n",
       "      <td>1</td>\n",
       "      <td>0</td>\n",
       "      <td>0</td>\n",
       "      <td>0</td>\n",
       "      <td>0</td>\n",
       "      <td>0</td>\n",
       "      <td>0</td>\n",
       "      <td>0</td>\n",
       "      <td>0</td>\n",
       "      <td>0</td>\n",
       "      <td>0</td>\n",
       "    </tr>\n",
       "    <tr>\n",
       "      <th>1</th>\n",
       "      <td>3</td>\n",
       "      <td>2.0</td>\n",
       "      <td>18.0</td>\n",
       "      <td>ЦАО</td>\n",
       "      <td>672108</td>\n",
       "      <td>15.0</td>\n",
       "      <td>1.0</td>\n",
       "      <td>1</td>\n",
       "      <td>0</td>\n",
       "      <td>0</td>\n",
       "      <td>0</td>\n",
       "      <td>0</td>\n",
       "      <td>0</td>\n",
       "      <td>0</td>\n",
       "      <td>0</td>\n",
       "      <td>0</td>\n",
       "      <td>0</td>\n",
       "      <td>0</td>\n",
       "    </tr>\n",
       "    <tr>\n",
       "      <th>2</th>\n",
       "      <td>6</td>\n",
       "      <td>2.0</td>\n",
       "      <td>17.0</td>\n",
       "      <td>САО</td>\n",
       "      <td>631196</td>\n",
       "      <td>4.0</td>\n",
       "      <td>0.0</td>\n",
       "      <td>0</td>\n",
       "      <td>1</td>\n",
       "      <td>0</td>\n",
       "      <td>0</td>\n",
       "      <td>0</td>\n",
       "      <td>0</td>\n",
       "      <td>0</td>\n",
       "      <td>0</td>\n",
       "      <td>0</td>\n",
       "      <td>0</td>\n",
       "      <td>0</td>\n",
       "    </tr>\n",
       "    <tr>\n",
       "      <th>3</th>\n",
       "      <td>8</td>\n",
       "      <td>5.0</td>\n",
       "      <td>11.0</td>\n",
       "      <td>ЮАО</td>\n",
       "      <td>763222</td>\n",
       "      <td>15.0</td>\n",
       "      <td>1.0</td>\n",
       "      <td>0</td>\n",
       "      <td>0</td>\n",
       "      <td>1</td>\n",
       "      <td>0</td>\n",
       "      <td>0</td>\n",
       "      <td>0</td>\n",
       "      <td>0</td>\n",
       "      <td>0</td>\n",
       "      <td>0</td>\n",
       "      <td>0</td>\n",
       "      <td>0</td>\n",
       "    </tr>\n",
       "    <tr>\n",
       "      <th>4</th>\n",
       "      <td>10</td>\n",
       "      <td>5.0</td>\n",
       "      <td>8.0</td>\n",
       "      <td>ЦАО</td>\n",
       "      <td>1342000</td>\n",
       "      <td>15.0</td>\n",
       "      <td>1.0</td>\n",
       "      <td>1</td>\n",
       "      <td>0</td>\n",
       "      <td>0</td>\n",
       "      <td>0</td>\n",
       "      <td>0</td>\n",
       "      <td>0</td>\n",
       "      <td>0</td>\n",
       "      <td>0</td>\n",
       "      <td>0</td>\n",
       "      <td>0</td>\n",
       "      <td>0</td>\n",
       "    </tr>\n",
       "    <tr>\n",
       "      <th>...</th>\n",
       "      <td>...</td>\n",
       "      <td>...</td>\n",
       "      <td>...</td>\n",
       "      <td>...</td>\n",
       "      <td>...</td>\n",
       "      <td>...</td>\n",
       "      <td>...</td>\n",
       "      <td>...</td>\n",
       "      <td>...</td>\n",
       "      <td>...</td>\n",
       "      <td>...</td>\n",
       "      <td>...</td>\n",
       "      <td>...</td>\n",
       "      <td>...</td>\n",
       "      <td>...</td>\n",
       "      <td>...</td>\n",
       "      <td>...</td>\n",
       "      <td>...</td>\n",
       "    </tr>\n",
       "    <tr>\n",
       "      <th>4045</th>\n",
       "      <td>8223</td>\n",
       "      <td>5.0</td>\n",
       "      <td>17.0</td>\n",
       "      <td>ВАО</td>\n",
       "      <td>423768</td>\n",
       "      <td>5.0</td>\n",
       "      <td>1.0</td>\n",
       "      <td>0</td>\n",
       "      <td>0</td>\n",
       "      <td>0</td>\n",
       "      <td>0</td>\n",
       "      <td>1</td>\n",
       "      <td>0</td>\n",
       "      <td>0</td>\n",
       "      <td>0</td>\n",
       "      <td>0</td>\n",
       "      <td>0</td>\n",
       "      <td>0</td>\n",
       "    </tr>\n",
       "    <tr>\n",
       "      <th>4046</th>\n",
       "      <td>8225</td>\n",
       "      <td>3.0</td>\n",
       "      <td>24.0</td>\n",
       "      <td>ЮАО</td>\n",
       "      <td>476113</td>\n",
       "      <td>5.0</td>\n",
       "      <td>1.0</td>\n",
       "      <td>0</td>\n",
       "      <td>0</td>\n",
       "      <td>1</td>\n",
       "      <td>0</td>\n",
       "      <td>0</td>\n",
       "      <td>0</td>\n",
       "      <td>0</td>\n",
       "      <td>0</td>\n",
       "      <td>0</td>\n",
       "      <td>0</td>\n",
       "      <td>0</td>\n",
       "    </tr>\n",
       "    <tr>\n",
       "      <th>4047</th>\n",
       "      <td>8226</td>\n",
       "      <td>12.0</td>\n",
       "      <td>18.0</td>\n",
       "      <td>ЗАО</td>\n",
       "      <td>1040000</td>\n",
       "      <td>16.0</td>\n",
       "      <td>1.0</td>\n",
       "      <td>0</td>\n",
       "      <td>0</td>\n",
       "      <td>0</td>\n",
       "      <td>0</td>\n",
       "      <td>0</td>\n",
       "      <td>1</td>\n",
       "      <td>0</td>\n",
       "      <td>0</td>\n",
       "      <td>0</td>\n",
       "      <td>0</td>\n",
       "      <td>0</td>\n",
       "    </tr>\n",
       "    <tr>\n",
       "      <th>4048</th>\n",
       "      <td>8227</td>\n",
       "      <td>16.0</td>\n",
       "      <td>24.0</td>\n",
       "      <td>ЮАО</td>\n",
       "      <td>660547</td>\n",
       "      <td>9.0</td>\n",
       "      <td>1.0</td>\n",
       "      <td>0</td>\n",
       "      <td>0</td>\n",
       "      <td>1</td>\n",
       "      <td>0</td>\n",
       "      <td>0</td>\n",
       "      <td>0</td>\n",
       "      <td>0</td>\n",
       "      <td>0</td>\n",
       "      <td>0</td>\n",
       "      <td>0</td>\n",
       "      <td>0</td>\n",
       "    </tr>\n",
       "    <tr>\n",
       "      <th>4049</th>\n",
       "      <td>8228</td>\n",
       "      <td>3.0</td>\n",
       "      <td>6.0</td>\n",
       "      <td>ЦАО</td>\n",
       "      <td>922200</td>\n",
       "      <td>15.0</td>\n",
       "      <td>0.0</td>\n",
       "      <td>1</td>\n",
       "      <td>0</td>\n",
       "      <td>0</td>\n",
       "      <td>0</td>\n",
       "      <td>0</td>\n",
       "      <td>0</td>\n",
       "      <td>0</td>\n",
       "      <td>0</td>\n",
       "      <td>0</td>\n",
       "      <td>0</td>\n",
       "      <td>0</td>\n",
       "    </tr>\n",
       "  </tbody>\n",
       "</table>\n",
       "<p>4050 rows × 18 columns</p>\n",
       "</div>"
      ],
      "text/plain": [
       "      index  floor  floors_total district  price_per_meter  to_metro_on_foot  \\\n",
       "0         2   41.0          66.0      ЦАО           854000               3.0   \n",
       "1         3    2.0          18.0      ЦАО           672108              15.0   \n",
       "2         6    2.0          17.0      САО           631196               4.0   \n",
       "3         8    5.0          11.0      ЮАО           763222              15.0   \n",
       "4        10    5.0           8.0      ЦАО          1342000              15.0   \n",
       "...     ...    ...           ...      ...              ...               ...   \n",
       "4045   8223    5.0          17.0      ВАО           423768               5.0   \n",
       "4046   8225    3.0          24.0      ЮАО           476113               5.0   \n",
       "4047   8226   12.0          18.0      ЗАО          1040000              16.0   \n",
       "4048   8227   16.0          24.0      ЮАО           660547               9.0   \n",
       "4049   8228    3.0           6.0      ЦАО           922200              15.0   \n",
       "\n",
       "      F/A  ЦАО  САО  ЮАО  СЗАО  ВАО  ЗАО  НАО (Новомосковский)  ЮЗАО  СВАО  \\\n",
       "0     0.0    1    0    0     0    0    0                     0     0     0   \n",
       "1     1.0    1    0    0     0    0    0                     0     0     0   \n",
       "2     0.0    0    1    0     0    0    0                     0     0     0   \n",
       "3     1.0    0    0    1     0    0    0                     0     0     0   \n",
       "4     1.0    1    0    0     0    0    0                     0     0     0   \n",
       "...   ...  ...  ...  ...   ...  ...  ...                   ...   ...   ...   \n",
       "4045  1.0    0    0    0     0    1    0                     0     0     0   \n",
       "4046  1.0    0    0    1     0    0    0                     0     0     0   \n",
       "4047  1.0    0    0    0     0    0    1                     0     0     0   \n",
       "4048  1.0    0    0    1     0    0    0                     0     0     0   \n",
       "4049  0.0    1    0    0     0    0    0                     0     0     0   \n",
       "\n",
       "      ЮВАО  ТАО (Троицкий)  \n",
       "0        0               0  \n",
       "1        0               0  \n",
       "2        0               0  \n",
       "3        0               0  \n",
       "4        0               0  \n",
       "...    ...             ...  \n",
       "4045     0               0  \n",
       "4046     0               0  \n",
       "4047     0               0  \n",
       "4048     0               0  \n",
       "4049     0               0  \n",
       "\n",
       "[4050 rows x 18 columns]"
      ]
     },
     "execution_count": 339,
     "metadata": {},
     "output_type": "execute_result"
    }
   ],
   "source": [
    "for i in range (4050):\n",
    "    if df2['district'][i] == 'ЦАО':\n",
    "        df2['ЦАО'][i] = 1\n",
    "    elif df2['district'][i] == 'САО':\n",
    "        df2['САО'][i] = 1\n",
    "    elif df2['district'][i] == 'ЮАО':\n",
    "        df2['ЮАО'][i] = 1\n",
    "    elif df2['district'][i] == 'СЗАО':\n",
    "        df2['СЗАО'][i] = 1\n",
    "    elif df2['district'][i] == 'ВАО':\n",
    "        df2['ВАО'][i] = 1\n",
    "    elif df2['district'][i] == 'ЗАО':\n",
    "        df2['ЗАО'][i] = 1\n",
    "    elif df2['district'][i] == 'НАО (Новомосковский)':\n",
    "        df2['НАО (Новомосковский)'][i] = 1\n",
    "    elif df2['district'][i] == 'ЮЗАО':\n",
    "        df2['ЮЗАО'][i] = 1   \n",
    "    elif df2['district'][i] == 'СВАО':\n",
    "        df2['СВАО'][i] = 1  \n",
    "    elif df2['district'][i] == 'ЮВАО':\n",
    "        df2['ЮВАО'][i] = 1 \n",
    "df2"
   ]
  },
  {
   "cell_type": "code",
   "execution_count": 340,
   "id": "ad585a68",
   "metadata": {},
   "outputs": [],
   "source": [
    "df2 = df2.drop(columns = ['index'], axis=1) # удаляем колонку index"
   ]
  },
  {
   "cell_type": "markdown",
   "id": "77106877",
   "metadata": {},
   "source": [
    "##### 3. Обучение модели."
   ]
  },
  {
   "cell_type": "code",
   "execution_count": 341,
   "id": "802bbd30",
   "metadata": {},
   "outputs": [
    {
     "name": "stdout",
     "output_type": "stream",
     "text": [
      "Свободный член:  164671.05189110537\n",
      "Коэффиценты:  [ 12681.48957798 -11515.76006276   1889.779519   -29834.98610328\n",
      " 899838.40545183 492937.89330757 600166.99442711 501224.85836757\n",
      " 355509.60424899 713512.91874317 167870.16549292 238311.36692319\n",
      " 336834.712633   238501.27988744      0.        ]\n"
     ]
    }
   ],
   "source": [
    "df2_train, df2_test = train_test_split(df2, test_size = 0.2, random_state=45)\n",
    "y_train = df2_train['price_per_meter']\n",
    "X_train = df2_train.drop(['price_per_meter', 'district'], axis=1) \n",
    "\n",
    "y_test = df2_test['price_per_meter']\n",
    "X_test = df2_test.drop(['price_per_meter', 'district'], axis=1) \n",
    "\n",
    "model.fit(X_train, y_train)\n",
    "y_pred = model.predict(X_test)\n",
    "print('Свободный член: ', model.intercept_)\n",
    "print('Коэффиценты: ', model.coef_)"
   ]
  },
  {
   "cell_type": "markdown",
   "id": "fbde69a2",
   "metadata": {},
   "source": [
    "##### 4. Расчёт метрик."
   ]
  },
  {
   "cell_type": "code",
   "execution_count": 342,
   "id": "61b35289",
   "metadata": {},
   "outputs": [
    {
     "name": "stdout",
     "output_type": "stream",
     "text": [
      "MAE:  120169.1038\n",
      "MSE:  28485875639.6647\n",
      "MAPE:  0.2186\n"
     ]
    }
   ],
   "source": [
    "print('MAE: ', round(mean_absolute_error(y_test, y_pred), 4))\n",
    "print('MSE: ', round(mean_squared_error(y_test, y_pred), 4))\n",
    "print('MAPE: ', round(mean_absolute_percentage_error(y_test, y_pred), 4))"
   ]
  },
  {
   "cell_type": "markdown",
   "id": "edb6540a",
   "metadata": {},
   "source": [
    "#### Таким образом, обученная модель линейной регрессии при предсказании стоимости м²  в среднем ошибается на 120169 рублей."
   ]
  }
 ],
 "metadata": {
  "hide_input": false,
  "kernelspec": {
   "display_name": "Python 3 (ipykernel)",
   "language": "python",
   "name": "python3"
  },
  "language_info": {
   "codemirror_mode": {
    "name": "ipython",
    "version": 3
   },
   "file_extension": ".py",
   "mimetype": "text/x-python",
   "name": "python",
   "nbconvert_exporter": "python",
   "pygments_lexer": "ipython3",
   "version": "3.9.13"
  }
 },
 "nbformat": 4,
 "nbformat_minor": 5
}
