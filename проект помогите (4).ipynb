{
 "cells": [
  {
   "cell_type": "markdown",
   "id": "6fedece0",
   "metadata": {},
   "source": [
    "### Предварительныя обработка"
   ]
  },
  {
   "cell_type": "code",
   "execution_count": 192,
   "id": "11f107a5",
   "metadata": {},
   "outputs": [],
   "source": [
    "import pandas as pd"
   ]
  },
  {
   "cell_type": "code",
   "execution_count": 227,
   "id": "529b1633",
   "metadata": {},
   "outputs": [],
   "source": [
    "your_df = pd.read_csv('data_all.tsv', sep='\\t').stack().str.replace(',','.').unstack()"
   ]
  },
  {
   "cell_type": "code",
   "execution_count": 228,
   "id": "1660cffc",
   "metadata": {},
   "outputs": [
    {
     "data": {
      "text/plain": [
       "Unnamed: 0         8229\n",
       "nrooms             8229\n",
       "meters             3336\n",
       "floor              8229\n",
       "floors_total       8229\n",
       "flat_or_appart     3337\n",
       "zh_comp            1282\n",
       "deadline           3809\n",
       "to_metro             30\n",
       "district            168\n",
       "area                387\n",
       "metro               464\n",
       "mainprice          8229\n",
       "price_per_meter    8229\n",
       "otdelka            7785\n",
       "developer             0\n",
       "dtype: int64"
      ]
     },
     "execution_count": 228,
     "metadata": {},
     "output_type": "execute_result"
    }
   ],
   "source": [
    "your_df.isna().sum()  # Количество пропусков в каждом столбце"
   ]
  },
  {
   "cell_type": "markdown",
   "id": "21a8b683",
   "metadata": {},
   "source": [
    "#### Столбы с количеством комнат и отделкой решили удалить из-за большого количества пропусков"
   ]
  },
  {
   "cell_type": "code",
   "execution_count": 229,
   "id": "72f6462b",
   "metadata": {},
   "outputs": [],
   "source": [
    "your_df = your_df.drop(columns=['Unnamed: 0', 'nrooms', 'otdelka'])"
   ]
  },
  {
   "cell_type": "markdown",
   "id": "f4dbc12b",
   "metadata": {},
   "source": [
    "#### Мы хотим поделить столб \"Время до метро\" на 2 столбца: время до метро пешком и время до метро на транспорте"
   ]
  },
  {
   "cell_type": "code",
   "execution_count": 230,
   "id": "61beee8d",
   "metadata": {},
   "outputs": [],
   "source": [
    "import numpy as np"
   ]
  },
  {
   "cell_type": "code",
   "execution_count": 231,
   "id": "ed80353b",
   "metadata": {},
   "outputs": [],
   "source": [
    "your_df['to_metro'] = your_df['to_metro'].astype(str)"
   ]
  },
  {
   "cell_type": "code",
   "execution_count": 232,
   "id": "b38bd465",
   "metadata": {},
   "outputs": [],
   "source": [
    "your_df['to_metro_transport'] = 0"
   ]
  },
  {
   "cell_type": "code",
   "execution_count": 233,
   "id": "37bbaa6d",
   "metadata": {},
   "outputs": [
    {
     "name": "stderr",
     "output_type": "stream",
     "text": [
      "C:\\Users\\79024\\AppData\\Local\\Temp/ipykernel_1168/852277437.py:7: SettingWithCopyWarning: \n",
      "A value is trying to be set on a copy of a slice from a DataFrame\n",
      "\n",
      "See the caveats in the documentation: https://pandas.pydata.org/pandas-docs/stable/user_guide/indexing.html#returning-a-view-versus-a-copy\n",
      "  your_df['to_metro_transport'][k] = '-'\n",
      "C:\\ProgramData\\Anaconda3\\lib\\site-packages\\pandas\\core\\indexing.py:1732: SettingWithCopyWarning: \n",
      "A value is trying to be set on a copy of a slice from a DataFrame\n",
      "\n",
      "See the caveats in the documentation: https://pandas.pydata.org/pandas-docs/stable/user_guide/indexing.html#returning-a-view-versus-a-copy\n",
      "  self._setitem_single_block(indexer, value, name)\n"
     ]
    }
   ],
   "source": [
    "k = 0\n",
    "for i in your_df['to_metro']:\n",
    "    if len(i) > 15:\n",
    "        your_df['to_metro_transport'][k] = i\n",
    "        k+=1\n",
    "    else:\n",
    "        your_df['to_metro_transport'][k] = '-'\n",
    "        k+=1"
   ]
  },
  {
   "cell_type": "code",
   "execution_count": 234,
   "id": "f673e822",
   "metadata": {},
   "outputs": [
    {
     "data": {
      "text/plain": [
       "-                          7163\n",
       "7 минут на транспорте       464\n",
       "3 минуты на транспорте      256\n",
       "5 минут на транспорте        78\n",
       "4 минуты на транспорте       45\n",
       "10 минут на транспорте       40\n",
       "6 минут на транспорте        31\n",
       "18 минут на транспорте       27\n",
       "2 минуты на транспорте       21\n",
       "9 минут на транспорте        15\n",
       "11 минут на транспорте       10\n",
       "8 минут на транспорте        10\n",
       "13 минут на транспорте        9\n",
       "14 минут на транспорте        9\n",
       "12 минут на транспорте        8\n",
       "21 минута на транспорте       8\n",
       "31 минута на транспорте       6\n",
       "15 минут на транспорте        5\n",
       "22 минуты на транспорте       5\n",
       "30 минут на транспорте        4\n",
       "1 минута на транспорте        3\n",
       "16 минут на транспорте        3\n",
       "35 минут на транспорте        3\n",
       "55 минут на транспорте        1\n",
       "17 минут на транспорте        1\n",
       "20 минут на транспорте        1\n",
       "40 минут на транспорте        1\n",
       "23 минуты на транспорте       1\n",
       "19 минут на транспорте        1\n",
       "Name: to_metro_transport, dtype: int64"
      ]
     },
     "execution_count": 234,
     "metadata": {},
     "output_type": "execute_result"
    }
   ],
   "source": [
    "your_df['to_metro_transport'].value_counts()"
   ]
  },
  {
   "cell_type": "code",
   "execution_count": 235,
   "id": "48d0cfb3",
   "metadata": {},
   "outputs": [],
   "source": [
    "l = 0\n",
    "for i in your_df['to_metro']:\n",
    "    if len(i) > 16:\n",
    "        your_df['to_metro'][l] = '-'\n",
    "        l+=1\n",
    "    else:\n",
    "        l+=1"
   ]
  },
  {
   "cell_type": "code",
   "execution_count": 236,
   "id": "9d69655b",
   "metadata": {},
   "outputs": [],
   "source": [
    "f = 0\n",
    "for i in your_df['to_metro']:\n",
    "    if i == 'nan':\n",
    "        your_df['to_metro'][f] = '-'\n",
    "        f+=1\n",
    "    else:\n",
    "        f+=1"
   ]
  },
  {
   "cell_type": "code",
   "execution_count": 237,
   "id": "4bda853d",
   "metadata": {},
   "outputs": [
    {
     "data": {
      "text/plain": [
       "15 минут пешком    1208\n",
       "-                  1096\n",
       "5 минут пешком      960\n",
       "10 минут пешком     643\n",
       "7 минут пешком      608\n",
       "4 минуты пешком     572\n",
       "1 минута пешком     443\n",
       "8 минут пешком      350\n",
       "9 минут пешком      330\n",
       "11 минут пешком     321\n",
       "13 минут пешком     296\n",
       "6 минут пешком      295\n",
       "16 минут пешком     281\n",
       "3 минуты пешком     279\n",
       "14 минут пешком     275\n",
       "19 минут пешком      60\n",
       "12 минут пешком      56\n",
       "2 минуты пешком      53\n",
       "17 минут пешком      44\n",
       "20 минут пешком      34\n",
       "18 минут пешком      25\n",
       "Name: to_metro, dtype: int64"
      ]
     },
     "execution_count": 237,
     "metadata": {},
     "output_type": "execute_result"
    }
   ],
   "source": [
    "your_df['to_metro'].value_counts()"
   ]
  },
  {
   "cell_type": "code",
   "execution_count": 238,
   "id": "0925d233",
   "metadata": {},
   "outputs": [],
   "source": [
    "your_df = your_df.rename(columns={\"to_metro\": \"to_metro_on_foot\"})"
   ]
  },
  {
   "cell_type": "code",
   "execution_count": 239,
   "id": "7882115d",
   "metadata": {},
   "outputs": [],
   "source": [
    "your_df['to_metro_on_foot'] = your_df['to_metro_on_foot'].str.extract('(\\d+)')"
   ]
  },
  {
   "cell_type": "code",
   "execution_count": 240,
   "id": "f9600c4d",
   "metadata": {},
   "outputs": [],
   "source": [
    "your_df['to_metro_transport'] = your_df['to_metro_transport'].str.extract('(\\d+)')"
   ]
  },
  {
   "cell_type": "code",
   "execution_count": 241,
   "id": "433d5ee0",
   "metadata": {},
   "outputs": [],
   "source": [
    "your_df['to_metro_on_foot'] = your_df['to_metro_on_foot'].fillna(0).astype(int)"
   ]
  },
  {
   "cell_type": "code",
   "execution_count": 242,
   "id": "88311959",
   "metadata": {},
   "outputs": [],
   "source": [
    "your_df['to_metro_transport'] = your_df['to_metro_transport'].fillna(0).astype(int)"
   ]
  },
  {
   "cell_type": "code",
   "execution_count": 245,
   "id": "2d597eac",
   "metadata": {},
   "outputs": [
    {
     "data": {
      "text/html": [
       "<div>\n",
       "<style scoped>\n",
       "    .dataframe tbody tr th:only-of-type {\n",
       "        vertical-align: middle;\n",
       "    }\n",
       "\n",
       "    .dataframe tbody tr th {\n",
       "        vertical-align: top;\n",
       "    }\n",
       "\n",
       "    .dataframe thead th {\n",
       "        text-align: right;\n",
       "    }\n",
       "</style>\n",
       "<table border=\"1\" class=\"dataframe\">\n",
       "  <thead>\n",
       "    <tr style=\"text-align: right;\">\n",
       "      <th></th>\n",
       "      <th>meters</th>\n",
       "      <th>floor</th>\n",
       "      <th>floors_total</th>\n",
       "      <th>flat_or_appart</th>\n",
       "      <th>zh_comp</th>\n",
       "      <th>deadline</th>\n",
       "      <th>to_metro_on_foot</th>\n",
       "      <th>district</th>\n",
       "      <th>area</th>\n",
       "      <th>metro</th>\n",
       "      <th>mainprice</th>\n",
       "      <th>price_per_meter</th>\n",
       "      <th>developer</th>\n",
       "      <th>to_metro_transport</th>\n",
       "    </tr>\n",
       "  </thead>\n",
       "  <tbody>\n",
       "    <tr>\n",
       "      <th>0</th>\n",
       "      <td>NaN</td>\n",
       "      <td>NaN</td>\n",
       "      <td>NaN</td>\n",
       "      <td>NaN</td>\n",
       "      <td>ЖК «River Park Towers Кутузовский»</td>\n",
       "      <td>NaN</td>\n",
       "      <td>5.0</td>\n",
       "      <td>ЗАО</td>\n",
       "      <td>р-н Дорогомилово</td>\n",
       "      <td>м. Фили</td>\n",
       "      <td>NaN</td>\n",
       "      <td>NaN</td>\n",
       "      <td>Аеон-Девелопмент</td>\n",
       "      <td>NaN</td>\n",
       "    </tr>\n",
       "    <tr>\n",
       "      <th>1</th>\n",
       "      <td>NaN</td>\n",
       "      <td>NaN</td>\n",
       "      <td>NaN</td>\n",
       "      <td>NaN</td>\n",
       "      <td>ЖК «ÁLIA»</td>\n",
       "      <td>сдача ГК: 2 кв. 2023 года</td>\n",
       "      <td>7.0</td>\n",
       "      <td>СЗАО</td>\n",
       "      <td>р-н Покровское-Стрешнево</td>\n",
       "      <td>м. Спартак</td>\n",
       "      <td>NaN</td>\n",
       "      <td>NaN</td>\n",
       "      <td>ASTERUS</td>\n",
       "      <td>NaN</td>\n",
       "    </tr>\n",
       "    <tr>\n",
       "      <th>2</th>\n",
       "      <td>51.2</td>\n",
       "      <td>NaN</td>\n",
       "      <td>NaN</td>\n",
       "      <td>A</td>\n",
       "      <td>ЖК «NEVA TOWERS»</td>\n",
       "      <td>дом сдан</td>\n",
       "      <td>3.0</td>\n",
       "      <td>ЦАО</td>\n",
       "      <td>р-н Пресненский</td>\n",
       "      <td>м. Выставочная</td>\n",
       "      <td>NaN</td>\n",
       "      <td>NaN</td>\n",
       "      <td>Тауэрс</td>\n",
       "      <td>NaN</td>\n",
       "    </tr>\n",
       "    <tr>\n",
       "      <th>3</th>\n",
       "      <td>49.8</td>\n",
       "      <td>NaN</td>\n",
       "      <td>NaN</td>\n",
       "      <td>F</td>\n",
       "      <td>ЖК «Luzhniki Collection»</td>\n",
       "      <td>сдача ГК: 4 кв. 2026 года</td>\n",
       "      <td>15.0</td>\n",
       "      <td>ЦАО</td>\n",
       "      <td>р-н Хамовники</td>\n",
       "      <td>м. Воробьёвы горы</td>\n",
       "      <td>NaN</td>\n",
       "      <td>NaN</td>\n",
       "      <td>Absolute Premium</td>\n",
       "      <td>NaN</td>\n",
       "    </tr>\n",
       "    <tr>\n",
       "      <th>4</th>\n",
       "      <td>NaN</td>\n",
       "      <td>NaN</td>\n",
       "      <td>NaN</td>\n",
       "      <td>NaN</td>\n",
       "      <td>ЖК «Famous»</td>\n",
       "      <td>сдача ГК: 4 кв. 2023 года</td>\n",
       "      <td>5.0</td>\n",
       "      <td>ЗАО</td>\n",
       "      <td>р-н Филевский парк</td>\n",
       "      <td>м. Фили</td>\n",
       "      <td>NaN</td>\n",
       "      <td>NaN</td>\n",
       "      <td>MR Group</td>\n",
       "      <td>NaN</td>\n",
       "    </tr>\n",
       "    <tr>\n",
       "      <th>...</th>\n",
       "      <td>...</td>\n",
       "      <td>...</td>\n",
       "      <td>...</td>\n",
       "      <td>...</td>\n",
       "      <td>...</td>\n",
       "      <td>...</td>\n",
       "      <td>...</td>\n",
       "      <td>...</td>\n",
       "      <td>...</td>\n",
       "      <td>...</td>\n",
       "      <td>...</td>\n",
       "      <td>...</td>\n",
       "      <td>...</td>\n",
       "      <td>...</td>\n",
       "    </tr>\n",
       "    <tr>\n",
       "      <th>8224</th>\n",
       "      <td>NaN</td>\n",
       "      <td>NaN</td>\n",
       "      <td>NaN</td>\n",
       "      <td>NaN</td>\n",
       "      <td>ЖК «Wellton Towers»</td>\n",
       "      <td>NaN</td>\n",
       "      <td>10.0</td>\n",
       "      <td>СЗАО</td>\n",
       "      <td>р-н Хорошево-Мневники</td>\n",
       "      <td>м. Народное Ополчение</td>\n",
       "      <td>NaN</td>\n",
       "      <td>NaN</td>\n",
       "      <td>Место</td>\n",
       "      <td>NaN</td>\n",
       "    </tr>\n",
       "    <tr>\n",
       "      <th>8225</th>\n",
       "      <td>44.94</td>\n",
       "      <td>NaN</td>\n",
       "      <td>NaN</td>\n",
       "      <td>F</td>\n",
       "      <td>ЖК «Dream Towers»</td>\n",
       "      <td>сдача ГК: 2 кв. 2023 года</td>\n",
       "      <td>5.0</td>\n",
       "      <td>ЮАО</td>\n",
       "      <td>р-н Нагатинский затон</td>\n",
       "      <td>м. Технопарк</td>\n",
       "      <td>NaN</td>\n",
       "      <td>NaN</td>\n",
       "      <td>Regions Development</td>\n",
       "      <td>NaN</td>\n",
       "    </tr>\n",
       "    <tr>\n",
       "      <th>8226</th>\n",
       "      <td>48.3</td>\n",
       "      <td>NaN</td>\n",
       "      <td>NaN</td>\n",
       "      <td>F</td>\n",
       "      <td>ЖК «Бадаевский»</td>\n",
       "      <td>сдача ГК: 4 кв. 2025 года</td>\n",
       "      <td>16.0</td>\n",
       "      <td>ЗАО</td>\n",
       "      <td>р-н Дорогомилово</td>\n",
       "      <td>м. Киевская</td>\n",
       "      <td>NaN</td>\n",
       "      <td>NaN</td>\n",
       "      <td>Capital Group</td>\n",
       "      <td>NaN</td>\n",
       "    </tr>\n",
       "    <tr>\n",
       "      <th>8227</th>\n",
       "      <td>50.2</td>\n",
       "      <td>NaN</td>\n",
       "      <td>NaN</td>\n",
       "      <td>F</td>\n",
       "      <td>ЖК «HIGH LIFE Летниковская. 11»</td>\n",
       "      <td>NaN</td>\n",
       "      <td>9.0</td>\n",
       "      <td>ЮАО</td>\n",
       "      <td>р-н Даниловский</td>\n",
       "      <td>м. Павелецкая</td>\n",
       "      <td>NaN</td>\n",
       "      <td>NaN</td>\n",
       "      <td>Пионер</td>\n",
       "      <td>NaN</td>\n",
       "    </tr>\n",
       "    <tr>\n",
       "      <th>8228</th>\n",
       "      <td>53.57</td>\n",
       "      <td>NaN</td>\n",
       "      <td>NaN</td>\n",
       "      <td>A</td>\n",
       "      <td>ЖК «Клубный дом Космо 4/22»</td>\n",
       "      <td>NaN</td>\n",
       "      <td>15.0</td>\n",
       "      <td>ЦАО</td>\n",
       "      <td>р-н Замоскворечье</td>\n",
       "      <td>м. Новокузнецкая</td>\n",
       "      <td>NaN</td>\n",
       "      <td>NaN</td>\n",
       "      <td>Галс-Девелопмент</td>\n",
       "      <td>NaN</td>\n",
       "    </tr>\n",
       "  </tbody>\n",
       "</table>\n",
       "<p>8229 rows × 14 columns</p>\n",
       "</div>"
      ],
      "text/plain": [
       "     meters floor floors_total flat_or_appart  \\\n",
       "0       NaN   NaN          NaN            NaN   \n",
       "1       NaN   NaN          NaN            NaN   \n",
       "2      51.2   NaN          NaN              A   \n",
       "3      49.8   NaN          NaN              F   \n",
       "4       NaN   NaN          NaN            NaN   \n",
       "...     ...   ...          ...            ...   \n",
       "8224    NaN   NaN          NaN            NaN   \n",
       "8225  44.94   NaN          NaN              F   \n",
       "8226   48.3   NaN          NaN              F   \n",
       "8227   50.2   NaN          NaN              F   \n",
       "8228  53.57   NaN          NaN              A   \n",
       "\n",
       "                                 zh_comp                   deadline  \\\n",
       "0     ЖК «River Park Towers Кутузовский»                        NaN   \n",
       "1                              ЖК «ÁLIA»  сдача ГК: 2 кв. 2023 года   \n",
       "2                       ЖК «NEVA TOWERS»                   дом сдан   \n",
       "3               ЖК «Luzhniki Collection»  сдача ГК: 4 кв. 2026 года   \n",
       "4                            ЖК «Famous»  сдача ГК: 4 кв. 2023 года   \n",
       "...                                  ...                        ...   \n",
       "8224                 ЖК «Wellton Towers»                        NaN   \n",
       "8225                   ЖК «Dream Towers»  сдача ГК: 2 кв. 2023 года   \n",
       "8226                     ЖК «Бадаевский»  сдача ГК: 4 кв. 2025 года   \n",
       "8227     ЖК «HIGH LIFE Летниковская. 11»                        NaN   \n",
       "8228         ЖК «Клубный дом Космо 4/22»                        NaN   \n",
       "\n",
       "      to_metro_on_foot district                      area  \\\n",
       "0                  5.0      ЗАО          р-н Дорогомилово   \n",
       "1                  7.0     СЗАО  р-н Покровское-Стрешнево   \n",
       "2                  3.0      ЦАО           р-н Пресненский   \n",
       "3                 15.0      ЦАО             р-н Хамовники   \n",
       "4                  5.0      ЗАО        р-н Филевский парк   \n",
       "...                ...      ...                       ...   \n",
       "8224              10.0     СЗАО     р-н Хорошево-Мневники   \n",
       "8225               5.0      ЮАО     р-н Нагатинский затон   \n",
       "8226              16.0      ЗАО          р-н Дорогомилово   \n",
       "8227               9.0      ЮАО           р-н Даниловский   \n",
       "8228              15.0      ЦАО         р-н Замоскворечье   \n",
       "\n",
       "                      metro mainprice price_per_meter            developer  \\\n",
       "0                   м. Фили       NaN             NaN     Аеон-Девелопмент   \n",
       "1                м. Спартак       NaN             NaN              ASTERUS   \n",
       "2            м. Выставочная       NaN             NaN               Тауэрс   \n",
       "3         м. Воробьёвы горы       NaN             NaN     Absolute Premium   \n",
       "4                   м. Фили       NaN             NaN             MR Group   \n",
       "...                     ...       ...             ...                  ...   \n",
       "8224  м. Народное Ополчение       NaN             NaN                Место   \n",
       "8225           м. Технопарк       NaN             NaN  Regions Development   \n",
       "8226            м. Киевская       NaN             NaN        Capital Group   \n",
       "8227          м. Павелецкая       NaN             NaN               Пионер   \n",
       "8228       м. Новокузнецкая       NaN             NaN     Галс-Девелопмент   \n",
       "\n",
       "      to_metro_transport  \n",
       "0                    NaN  \n",
       "1                    NaN  \n",
       "2                    NaN  \n",
       "3                    NaN  \n",
       "4                    NaN  \n",
       "...                  ...  \n",
       "8224                 NaN  \n",
       "8225                 NaN  \n",
       "8226                 NaN  \n",
       "8227                 NaN  \n",
       "8228                 NaN  \n",
       "\n",
       "[8229 rows x 14 columns]"
      ]
     },
     "execution_count": 245,
     "metadata": {},
     "output_type": "execute_result"
    }
   ],
   "source": [
    "your_df"
   ]
  },
  {
   "cell_type": "markdown",
   "id": "58846657",
   "metadata": {},
   "source": [
    "### Анализируем и визуализируем полученные данные"
   ]
  },
  {
   "cell_type": "code",
   "execution_count": 244,
   "id": "09e51fc4",
   "metadata": {},
   "outputs": [],
   "source": [
    "your_df.replace(0, np.nan, inplace=True)"
   ]
  },
  {
   "cell_type": "code",
   "execution_count": 178,
   "id": "30a288d6",
   "metadata": {},
   "outputs": [
    {
     "data": {
      "text/plain": [
       "117"
      ]
     },
     "execution_count": 178,
     "metadata": {},
     "output_type": "execute_result"
    }
   ],
   "source": [
    "len(your_df['area'].unique()) # Количество уникальных районов, в которых находятся квартиры из собранных данных."
   ]
  },
  {
   "cell_type": "code",
   "execution_count": 179,
   "id": "e0c28735",
   "metadata": {},
   "outputs": [
    {
     "data": {
      "text/plain": [
       "developer\n",
       "494 УНР                        661000.000000\n",
       "AFI Development                424666.666667\n",
       "ALFA real estate               437853.000000\n",
       "ALVO Group                     621551.250000\n",
       "ASTERUS                        336381.831818\n",
       "ATLANT                         571429.000000\n",
       "Absolute Premium               673515.889908\n",
       "Acropol                        414957.000000\n",
       "Alliance Agency Real Estate    366154.000000\n",
       "BARNES International Realty    488700.500000\n",
       "Name: price_per_meter, dtype: float64"
      ]
     },
     "execution_count": 179,
     "metadata": {},
     "output_type": "execute_result"
    }
   ],
   "source": [
    "your_df.groupby('developer')['price_per_meter'].mean().head(10)  # Застройщики с самыми высокими ценами за м²"
   ]
  },
  {
   "cell_type": "code",
   "execution_count": 180,
   "id": "e9c2c3c3",
   "metadata": {},
   "outputs": [
    {
     "data": {
      "text/plain": [
       "flat_or_appart\n",
       "A    818579.312064\n",
       "F    793512.759321\n",
       "Name: price_per_meter, dtype: float64"
      ]
     },
     "execution_count": 180,
     "metadata": {},
     "output_type": "execute_result"
    }
   ],
   "source": [
    "your_df.groupby('flat_or_appart')['price_per_meter'].mean() # В среднем стоимость за м² в апартаментах выше, чем в квартирах."
   ]
  },
  {
   "cell_type": "code",
   "execution_count": null,
   "id": "579dfac5",
   "metadata": {},
   "outputs": [],
   "source": []
  },
  {
   "cell_type": "code",
   "execution_count": null,
   "id": "5547ebb6",
   "metadata": {},
   "outputs": [],
   "source": []
  }
 ],
 "metadata": {
  "kernelspec": {
   "display_name": "Python 3 (ipykernel)",
   "language": "python",
   "name": "python3"
  },
  "language_info": {
   "codemirror_mode": {
    "name": "ipython",
    "version": 3
   },
   "file_extension": ".py",
   "mimetype": "text/x-python",
   "name": "python",
   "nbconvert_exporter": "python",
   "pygments_lexer": "ipython3",
   "version": "3.9.7"
  }
 },
 "nbformat": 4,
 "nbformat_minor": 5
}
