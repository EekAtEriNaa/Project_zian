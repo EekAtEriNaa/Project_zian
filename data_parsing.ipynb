{
 "cells": [
  {
   "cell_type": "code",
   "execution_count": 1,
   "id": "151b8257-ba6e-4c34-8358-0240f47b201a",
   "metadata": {
    "tags": []
   },
   "outputs": [],
   "source": [
    "import requests\n",
    "from bs4 import BeautifulSoup\n",
    "import pandas as pd\n",
    "from random import randint, random\n",
    "from time import sleep"
   ]
  },
  {
   "cell_type": "code",
   "execution_count": 2,
   "id": "0f889c28-b6ff-4a02-9477-1e088195d8dd",
   "metadata": {
    "tags": []
   },
   "outputs": [],
   "source": [
    "def try_get_page_from_server(page_num):\n",
    "    \n",
    "    sleep(randint(0, 3) / 10 + random())  # чтобы спать случайное число времени и наш айпи не залочили\n",
    "    \n",
    "    link = f'https://www.cian.ru/cat.php?deal_type=sale&engine_version=2&object_type%5B0%5D=100&offer_type=flat&p={page_num}&region=1&room1=1'\n",
    "    page = requests.get(link, headers={'Browser': 'Firefox'})\n",
    "    if page.status_code != 200:\n",
    "        return None\n",
    "    else:\n",
    "        soup = BeautifulSoup(page.content, 'html.parser')\n",
    "        return soup"
   ]
  },
  {
   "cell_type": "code",
   "execution_count": 3,
   "id": "ba7b4940-741e-4a12-9bdf-aeb961045e85",
   "metadata": {
    "tags": []
   },
   "outputs": [],
   "source": [
    "def try_find_tag(soup_object, tag, params, v=False):\n",
    "    \"\"\"\n",
    "    Функция для получения информации о теге (для простых тегов, которые имею уникальные атрибуты типа class и др)\n",
    "    \"\"\"\n",
    "    try:\n",
    "        res = soup_object.find(tag, params)\n",
    "        return res.text\n",
    "    except Exception as E:\n",
    "        if v:\n",
    "            print(E)\n",
    "        return res\n",
    "    \n",
    "def try_find_places(soup_object, tag, params):\n",
    "    \"\"\"\n",
    "    Функция для получения информации о округе, районе и метро\n",
    "    \"\"\"\n",
    "    district = None\n",
    "    area = None\n",
    "    metro = None\n",
    "\n",
    "    res = soup_object.find_all(tag, params)\n",
    "    for elem in res:\n",
    "        text = elem.text\n",
    "        if \"АО\" in text:\n",
    "            district = text\n",
    "        elif \"р-н\" in text:\n",
    "            area = text\n",
    "        elif \"м.\" in text:\n",
    "            metro = text\n",
    "\n",
    "    return district, area, metro\n"
   ]
  },
  {
   "cell_type": "code",
   "execution_count": 4,
   "id": "06840c57-49f7-4b0a-9e50-8c5f6cd0aa72",
   "metadata": {
    "tags": []
   },
   "outputs": [],
   "source": [
    "def get_page_data(soup, global_data_list):\n",
    "    \"\"\"\n",
    "    Функция, которая принимает soup object для веб-странички, парсит её и возвращает инорфмацию в виде списка\n",
    "    \"\"\"\n",
    "    \n",
    "    for flat_info, aside_block in zip(soup.find_all(\"div\", attrs={'class':\"_93444fe79c--container--kZeLu _93444fe79c--link--DqDOy\"}),\n",
    "                                     soup.find_all(\"div\", attrs={'class':\"_93444fe79c--container--kZeLu _93444fe79c--agent-cont--iStzo\"})):\n",
    "\n",
    "        # число комнат, метраж, этажи\n",
    "        try:\n",
    "            data = try_find_tag(flat_info, \"span\", {'class': \"\"})\n",
    "            room, meters, floor = data.split(', ')\n",
    "\n",
    "            nrooms = room.split('-')[0]  # число комнат\n",
    "            meters = meters.split()[0]  # метраж\n",
    "            if \"кв.\" in room:\n",
    "                flat_or_appart = 'F'\n",
    "            elif \"апарт.\" in room:\n",
    "                flat_or_appart = 'A'\n",
    "            else:\n",
    "                flat_or_appart = None\n",
    "\n",
    "            floor, floors_total = floor.split()[0].split('/')  # на каком этаже квартира и сколько этажей в доме\n",
    "\n",
    "        except Exception as E:\n",
    "            \n",
    "            nrooms, meters, floor, floors_total, flat_or_appart = None, None, None, None, None\n",
    "\n",
    "\n",
    "        # жилой комплекс\n",
    "        try:\n",
    "            zh_comp = try_find_tag(flat_info, \"a\", {'class': \"_93444fe79c--jk--dIktL\"})\n",
    "        except Exception as E:\n",
    "            # print(E)\n",
    "            zh_comp = None\n",
    "\n",
    "        # сдан ли дом/срок сдачи.\n",
    "        try:\n",
    "            deadline = try_find_tag(flat_info, \"span\", {'data-mark': \"Deadline\"})\n",
    "        except Exception as E:\n",
    "            \n",
    "            deadline = None\n",
    "\n",
    "        # минуты до метро\n",
    "        try:\n",
    "            to_metro = try_find_tag(flat_info, \"div\", {'class': \"_93444fe79c--remoteness--q8IXp\"})\n",
    "        except Exception as E:\n",
    "            \n",
    "            to_metro = None\n",
    "\n",
    "        # округ, район, метро\n",
    "        try:\n",
    "            district, area, metro = try_find_places(flat_info, \"a\", {'class': \"_93444fe79c--link--NQlVc\"})\n",
    "        except Exception as E:\n",
    "            \n",
    "            district, area, metro = None, None, None\n",
    "\n",
    "        # цена \n",
    "        try:\n",
    "            mainprice = \"\".join(try_find_tag(flat_info, \"span\", {'data-mark': \"MainPrice\"}).split()[:-1])\n",
    "        except Exception as E:\n",
    "            \n",
    "            mainprice = None\n",
    "\n",
    "        # цена м²\n",
    "        try:\n",
    "            price_per_sq_m = \"\".join(try_find_tag(flat_info, \"p\", {'data-mark': \"PriceInfo\"}).split()[:-1])\n",
    "        except Exception as E:\n",
    "            \n",
    "            price_per_sq_m = None\n",
    "\n",
    "        # с отделкой или без (в основном без отделки)\n",
    "        try:\n",
    "            otdelka = try_find_tag(flat_info, \"span\", {'class': \"_93444fe79c--label--fCs_v _93444fe79c--color_black_100--kPHhJ _93444fe79c--background_gray6_100--VAXKA\"})\n",
    "        except Exception as E:\n",
    "            \n",
    "            otdelka = None\n",
    "\n",
    "        # застройщик\n",
    "        try:\n",
    "            developer = try_find_tag(aside_block, \"span\", {'class': \"_93444fe79c--color_current_color--gpi6p _93444fe79c--lineHeight_6u--A1GMI _93444fe79c--fontWeight_bold--ePDnv _93444fe79c--fontSize_16px--RB9YW _93444fe79c--display_block--pDAEx _93444fe79c--text--g9xAG\"})\n",
    "        except Exception as E:\n",
    "            \n",
    "            developer = None\n",
    "        \n",
    "        global_data_list.append([nrooms, meters, floor, floors_total, flat_or_appart, zh_comp, deadline, to_metro,  district, area, metro, mainprice, price_per_sq_m, otdelka, developer])"
   ]
  },
  {
   "cell_type": "code",
   "execution_count": 5,
   "id": "0a6bd11a-a6e9-46c1-9e8a-f22b06366ea5",
   "metadata": {
    "tags": []
   },
   "outputs": [
    {
     "name": "stdout",
     "output_type": "stream",
     "text": [
      "Parsing page num 99\r"
     ]
    },
    {
     "name": "stdin",
     "output_type": "stream",
     "text": [
      "Type \"END\" to finish parsing:  no\n"
     ]
    },
    {
     "name": "stdout",
     "output_type": "stream",
     "text": [
      "Parsing page num 199\r"
     ]
    },
    {
     "name": "stdin",
     "output_type": "stream",
     "text": [
      "Type \"END\" to finish parsing:  END\n"
     ]
    }
   ],
   "source": [
    "data_all = []\n",
    "\n",
    "page = 1\n",
    "soup = try_get_page_from_server(page)\n",
    "\n",
    "while soup is not None:\n",
    "    \n",
    "    if page % 100 == 0:\n",
    "        inp = input('Type \"END\" to finish parsing: ')\n",
    "        if inp.strip() == 'END':\n",
    "            break\n",
    "            \n",
    "    print(f'Parsing page num {page}', end=\"\\r\")  # \\r, чтобы печаталось на одной строке, заменяя существующий принт\n",
    "        \n",
    "    get_page_data(soup, data_all)\n",
    "    page += 1\n",
    "    soup = try_get_page_from_server(page)"
   ]
  },
  {
   "cell_type": "code",
   "execution_count": 1,
   "id": "9a699ca7-bed8-49df-9a5b-a9d63d02365e",
   "metadata": {
    "tags": []
   },
   "outputs": [],
   "source": [
    "cols = ['nrooms', 'meters', 'floor', 'floors_total', 'flat_or_appart', \"zh_comp\", 'deadline', 'to_metro',  'district', 'area', 'metro', 'mainprice', 'price_per_meter', 'otdelka', 'developer']\n",
    "df = pd.DataFrame(data=data_all, columns=cols)"
   ]
  },
  {
   "cell_type": "code",
   "execution_count": 9,
   "id": "bc68cebe-3928-4cab-ad90-7ff2ff4dafef",
   "metadata": {
    "tags": []
   },
   "outputs": [],
   "source": [
    "df.to_csv('data_all.tsv', sep='\\t', encoding='utf8')"
   ]
  }
 ],
 "metadata": {
  "hide_input": false,
  "kernelspec": {
   "display_name": "Python 3 (ipykernel)",
   "language": "python",
   "name": "python3"
  },
  "language_info": {
   "codemirror_mode": {
    "name": "ipython",
    "version": 3
   },
   "file_extension": ".py",
   "mimetype": "text/x-python",
   "name": "python",
   "nbconvert_exporter": "python",
   "pygments_lexer": "ipython3",
   "version": "3.9.13"
  }
 },
 "nbformat": 4,
 "nbformat_minor": 5
}
