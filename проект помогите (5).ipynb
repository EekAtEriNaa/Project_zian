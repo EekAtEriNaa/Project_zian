{
 "cells": [
  {
   "cell_type": "code",
   "execution_count": 229,
   "id": "d823a49d",
   "metadata": {},
   "outputs": [],
   "source": [
    "import pandas as pd\n",
    "import matplotlib.pyplot as plt \n",
    "import seaborn as sns"
   ]
  },
  {
   "cell_type": "markdown",
   "id": "cc8aee91",
   "metadata": {},
   "source": [
    "## Предварительныя обработка"
   ]
  },
  {
   "cell_type": "code",
   "execution_count": 100,
   "id": "75fb4648",
   "metadata": {},
   "outputs": [],
   "source": [
    "your_df = pd.read_csv('data_all.tsv', sep='\\t')"
   ]
  },
  {
   "cell_type": "code",
   "execution_count": 102,
   "id": "9cb77600",
   "metadata": {},
   "outputs": [
    {
     "data": {
      "text/html": [
       "<div>\n",
       "<style scoped>\n",
       "    .dataframe tbody tr th:only-of-type {\n",
       "        vertical-align: middle;\n",
       "    }\n",
       "\n",
       "    .dataframe tbody tr th {\n",
       "        vertical-align: top;\n",
       "    }\n",
       "\n",
       "    .dataframe thead th {\n",
       "        text-align: right;\n",
       "    }\n",
       "</style>\n",
       "<table border=\"1\" class=\"dataframe\">\n",
       "  <thead>\n",
       "    <tr style=\"text-align: right;\">\n",
       "      <th></th>\n",
       "      <th>Unnamed: 0</th>\n",
       "      <th>nrooms</th>\n",
       "      <th>meters</th>\n",
       "      <th>floor</th>\n",
       "      <th>floors_total</th>\n",
       "      <th>flat_or_appart</th>\n",
       "      <th>zh_comp</th>\n",
       "      <th>deadline</th>\n",
       "      <th>to_metro</th>\n",
       "      <th>district</th>\n",
       "      <th>area</th>\n",
       "      <th>metro</th>\n",
       "      <th>mainprice</th>\n",
       "      <th>price_per_meter</th>\n",
       "      <th>otdelka</th>\n",
       "      <th>developer</th>\n",
       "    </tr>\n",
       "  </thead>\n",
       "  <tbody>\n",
       "    <tr>\n",
       "      <th>0</th>\n",
       "      <td>0</td>\n",
       "      <td>NaN</td>\n",
       "      <td>NaN</td>\n",
       "      <td>NaN</td>\n",
       "      <td>NaN</td>\n",
       "      <td>NaN</td>\n",
       "      <td>ЖК «River Park Towers Кутузовский»</td>\n",
       "      <td>NaN</td>\n",
       "      <td>5 минут пешком</td>\n",
       "      <td>ЗАО</td>\n",
       "      <td>р-н Дорогомилово</td>\n",
       "      <td>м. Фили</td>\n",
       "      <td>22450632</td>\n",
       "      <td>524547</td>\n",
       "      <td>NaN</td>\n",
       "      <td>Аеон-Девелопмент</td>\n",
       "    </tr>\n",
       "    <tr>\n",
       "      <th>1</th>\n",
       "      <td>1</td>\n",
       "      <td>NaN</td>\n",
       "      <td>NaN</td>\n",
       "      <td>NaN</td>\n",
       "      <td>NaN</td>\n",
       "      <td>NaN</td>\n",
       "      <td>ЖК «ÁLIA»</td>\n",
       "      <td>сдача ГК: 2 кв. 2023 года</td>\n",
       "      <td>7 минут пешком</td>\n",
       "      <td>СЗАО</td>\n",
       "      <td>р-н Покровское-Стрешнево</td>\n",
       "      <td>м. Спартак</td>\n",
       "      <td>16122800</td>\n",
       "      <td>335472</td>\n",
       "      <td>NaN</td>\n",
       "      <td>ASTERUS</td>\n",
       "    </tr>\n",
       "    <tr>\n",
       "      <th>2</th>\n",
       "      <td>2</td>\n",
       "      <td>1.0</td>\n",
       "      <td>51,2</td>\n",
       "      <td>41.0</td>\n",
       "      <td>66.0</td>\n",
       "      <td>A</td>\n",
       "      <td>ЖК «NEVA TOWERS»</td>\n",
       "      <td>дом сдан</td>\n",
       "      <td>3 минуты пешком</td>\n",
       "      <td>ЦАО</td>\n",
       "      <td>р-н Пресненский</td>\n",
       "      <td>м. Выставочная</td>\n",
       "      <td>43724800</td>\n",
       "      <td>854000</td>\n",
       "      <td>NaN</td>\n",
       "      <td>Тауэрс</td>\n",
       "    </tr>\n",
       "    <tr>\n",
       "      <th>3</th>\n",
       "      <td>3</td>\n",
       "      <td>1.0</td>\n",
       "      <td>49,8</td>\n",
       "      <td>2.0</td>\n",
       "      <td>18.0</td>\n",
       "      <td>F</td>\n",
       "      <td>ЖК «Luzhniki Collection»</td>\n",
       "      <td>сдача ГК: 4 кв. 2026 года</td>\n",
       "      <td>15 минут пешком</td>\n",
       "      <td>ЦАО</td>\n",
       "      <td>р-н Хамовники</td>\n",
       "      <td>м. Воробьёвы горы</td>\n",
       "      <td>33471000</td>\n",
       "      <td>672108</td>\n",
       "      <td>NaN</td>\n",
       "      <td>Absolute Premium</td>\n",
       "    </tr>\n",
       "    <tr>\n",
       "      <th>4</th>\n",
       "      <td>4</td>\n",
       "      <td>NaN</td>\n",
       "      <td>NaN</td>\n",
       "      <td>NaN</td>\n",
       "      <td>NaN</td>\n",
       "      <td>NaN</td>\n",
       "      <td>ЖК «Famous»</td>\n",
       "      <td>сдача ГК: 4 кв. 2023 года</td>\n",
       "      <td>5 минут пешком</td>\n",
       "      <td>ЗАО</td>\n",
       "      <td>р-н Филевский парк</td>\n",
       "      <td>м. Фили</td>\n",
       "      <td>20837134</td>\n",
       "      <td>543908</td>\n",
       "      <td>NaN</td>\n",
       "      <td>MR Group</td>\n",
       "    </tr>\n",
       "    <tr>\n",
       "      <th>...</th>\n",
       "      <td>...</td>\n",
       "      <td>...</td>\n",
       "      <td>...</td>\n",
       "      <td>...</td>\n",
       "      <td>...</td>\n",
       "      <td>...</td>\n",
       "      <td>...</td>\n",
       "      <td>...</td>\n",
       "      <td>...</td>\n",
       "      <td>...</td>\n",
       "      <td>...</td>\n",
       "      <td>...</td>\n",
       "      <td>...</td>\n",
       "      <td>...</td>\n",
       "      <td>...</td>\n",
       "      <td>...</td>\n",
       "    </tr>\n",
       "    <tr>\n",
       "      <th>8224</th>\n",
       "      <td>8224</td>\n",
       "      <td>NaN</td>\n",
       "      <td>NaN</td>\n",
       "      <td>NaN</td>\n",
       "      <td>NaN</td>\n",
       "      <td>NaN</td>\n",
       "      <td>ЖК «Wellton Towers»</td>\n",
       "      <td>NaN</td>\n",
       "      <td>10 минут пешком</td>\n",
       "      <td>СЗАО</td>\n",
       "      <td>р-н Хорошево-Мневники</td>\n",
       "      <td>м. Народное Ополчение</td>\n",
       "      <td>21700000</td>\n",
       "      <td>563636</td>\n",
       "      <td>NaN</td>\n",
       "      <td>Место</td>\n",
       "    </tr>\n",
       "    <tr>\n",
       "      <th>8225</th>\n",
       "      <td>8225</td>\n",
       "      <td>1.0</td>\n",
       "      <td>44,94</td>\n",
       "      <td>3.0</td>\n",
       "      <td>24.0</td>\n",
       "      <td>F</td>\n",
       "      <td>ЖК «Dream Towers»</td>\n",
       "      <td>сдача ГК: 2 кв. 2023 года</td>\n",
       "      <td>5 минут пешком</td>\n",
       "      <td>ЮАО</td>\n",
       "      <td>р-н Нагатинский затон</td>\n",
       "      <td>м. Технопарк</td>\n",
       "      <td>21396534</td>\n",
       "      <td>476113</td>\n",
       "      <td>NaN</td>\n",
       "      <td>Regions Development</td>\n",
       "    </tr>\n",
       "    <tr>\n",
       "      <th>8226</th>\n",
       "      <td>8226</td>\n",
       "      <td>1.0</td>\n",
       "      <td>48,3</td>\n",
       "      <td>12.0</td>\n",
       "      <td>18.0</td>\n",
       "      <td>F</td>\n",
       "      <td>ЖК «Бадаевский»</td>\n",
       "      <td>сдача ГК: 4 кв. 2025 года</td>\n",
       "      <td>16 минут пешком</td>\n",
       "      <td>ЗАО</td>\n",
       "      <td>р-н Дорогомилово</td>\n",
       "      <td>м. Киевская</td>\n",
       "      <td>50232000</td>\n",
       "      <td>1040000</td>\n",
       "      <td>NaN</td>\n",
       "      <td>Capital Group</td>\n",
       "    </tr>\n",
       "    <tr>\n",
       "      <th>8227</th>\n",
       "      <td>8227</td>\n",
       "      <td>1.0</td>\n",
       "      <td>50,2</td>\n",
       "      <td>16.0</td>\n",
       "      <td>24.0</td>\n",
       "      <td>F</td>\n",
       "      <td>ЖК «HIGH LIFE Летниковская, 11»</td>\n",
       "      <td>NaN</td>\n",
       "      <td>9 минут пешком</td>\n",
       "      <td>ЮАО</td>\n",
       "      <td>р-н Даниловский</td>\n",
       "      <td>м. Павелецкая</td>\n",
       "      <td>33159459</td>\n",
       "      <td>660547</td>\n",
       "      <td>NaN</td>\n",
       "      <td>Пионер</td>\n",
       "    </tr>\n",
       "    <tr>\n",
       "      <th>8228</th>\n",
       "      <td>8228</td>\n",
       "      <td>1.0</td>\n",
       "      <td>53,57</td>\n",
       "      <td>3.0</td>\n",
       "      <td>6.0</td>\n",
       "      <td>A</td>\n",
       "      <td>ЖК «Клубный дом Космо 4/22»</td>\n",
       "      <td>NaN</td>\n",
       "      <td>15 минут пешком</td>\n",
       "      <td>ЦАО</td>\n",
       "      <td>р-н Замоскворечье</td>\n",
       "      <td>м. Новокузнецкая</td>\n",
       "      <td>49402254</td>\n",
       "      <td>922200</td>\n",
       "      <td>NaN</td>\n",
       "      <td>Галс-Девелопмент</td>\n",
       "    </tr>\n",
       "  </tbody>\n",
       "</table>\n",
       "<p>8229 rows × 16 columns</p>\n",
       "</div>"
      ],
      "text/plain": [
       "      Unnamed: 0  nrooms meters  floor  floors_total flat_or_appart  \\\n",
       "0              0     NaN    NaN    NaN           NaN            NaN   \n",
       "1              1     NaN    NaN    NaN           NaN            NaN   \n",
       "2              2     1.0   51,2   41.0          66.0              A   \n",
       "3              3     1.0   49,8    2.0          18.0              F   \n",
       "4              4     NaN    NaN    NaN           NaN            NaN   \n",
       "...          ...     ...    ...    ...           ...            ...   \n",
       "8224        8224     NaN    NaN    NaN           NaN            NaN   \n",
       "8225        8225     1.0  44,94    3.0          24.0              F   \n",
       "8226        8226     1.0   48,3   12.0          18.0              F   \n",
       "8227        8227     1.0   50,2   16.0          24.0              F   \n",
       "8228        8228     1.0  53,57    3.0           6.0              A   \n",
       "\n",
       "                                 zh_comp                   deadline  \\\n",
       "0     ЖК «River Park Towers Кутузовский»                        NaN   \n",
       "1                              ЖК «ÁLIA»  сдача ГК: 2 кв. 2023 года   \n",
       "2                       ЖК «NEVA TOWERS»                   дом сдан   \n",
       "3               ЖК «Luzhniki Collection»  сдача ГК: 4 кв. 2026 года   \n",
       "4                            ЖК «Famous»  сдача ГК: 4 кв. 2023 года   \n",
       "...                                  ...                        ...   \n",
       "8224                 ЖК «Wellton Towers»                        NaN   \n",
       "8225                   ЖК «Dream Towers»  сдача ГК: 2 кв. 2023 года   \n",
       "8226                     ЖК «Бадаевский»  сдача ГК: 4 кв. 2025 года   \n",
       "8227     ЖК «HIGH LIFE Летниковская, 11»                        NaN   \n",
       "8228         ЖК «Клубный дом Космо 4/22»                        NaN   \n",
       "\n",
       "             to_metro district                      area  \\\n",
       "0      5 минут пешком      ЗАО          р-н Дорогомилово   \n",
       "1      7 минут пешком     СЗАО  р-н Покровское-Стрешнево   \n",
       "2     3 минуты пешком      ЦАО           р-н Пресненский   \n",
       "3     15 минут пешком      ЦАО             р-н Хамовники   \n",
       "4      5 минут пешком      ЗАО        р-н Филевский парк   \n",
       "...               ...      ...                       ...   \n",
       "8224  10 минут пешком     СЗАО     р-н Хорошево-Мневники   \n",
       "8225   5 минут пешком      ЮАО     р-н Нагатинский затон   \n",
       "8226  16 минут пешком      ЗАО          р-н Дорогомилово   \n",
       "8227   9 минут пешком      ЮАО           р-н Даниловский   \n",
       "8228  15 минут пешком      ЦАО         р-н Замоскворечье   \n",
       "\n",
       "                      metro  mainprice  price_per_meter otdelka  \\\n",
       "0                   м. Фили   22450632           524547     NaN   \n",
       "1                м. Спартак   16122800           335472     NaN   \n",
       "2            м. Выставочная   43724800           854000     NaN   \n",
       "3         м. Воробьёвы горы   33471000           672108     NaN   \n",
       "4                   м. Фили   20837134           543908     NaN   \n",
       "...                     ...        ...              ...     ...   \n",
       "8224  м. Народное Ополчение   21700000           563636     NaN   \n",
       "8225           м. Технопарк   21396534           476113     NaN   \n",
       "8226            м. Киевская   50232000          1040000     NaN   \n",
       "8227          м. Павелецкая   33159459           660547     NaN   \n",
       "8228       м. Новокузнецкая   49402254           922200     NaN   \n",
       "\n",
       "                developer  \n",
       "0        Аеон-Девелопмент  \n",
       "1                 ASTERUS  \n",
       "2                  Тауэрс  \n",
       "3        Absolute Premium  \n",
       "4                MR Group  \n",
       "...                   ...  \n",
       "8224                Место  \n",
       "8225  Regions Development  \n",
       "8226        Capital Group  \n",
       "8227               Пионер  \n",
       "8228     Галс-Девелопмент  \n",
       "\n",
       "[8229 rows x 16 columns]"
      ]
     },
     "execution_count": 102,
     "metadata": {},
     "output_type": "execute_result"
    }
   ],
   "source": [
    "your_df"
   ]
  },
  {
   "cell_type": "markdown",
   "id": "d98eec1c",
   "metadata": {},
   "source": [
    "##### Оценим количество пропусков в каждом столбце"
   ]
  },
  {
   "cell_type": "code",
   "execution_count": 233,
   "id": "6e365f94",
   "metadata": {},
   "outputs": [
    {
     "data": {
      "text/plain": [
       "meters                3336\n",
       "floor                 3336\n",
       "floors_total          3336\n",
       "flat_or_appart        3337\n",
       "zh_comp               1282\n",
       "deadline              3809\n",
       "to_metro_on_foot      1096\n",
       "district               168\n",
       "area                   387\n",
       "metro                  464\n",
       "mainprice                0\n",
       "price_per_meter          0\n",
       "developer                0\n",
       "to_metro_transport    7163\n",
       "dtype: int64"
      ]
     },
     "execution_count": 233,
     "metadata": {},
     "output_type": "execute_result"
    }
   ],
   "source": [
    "your_df.isna().sum()  # .stack().str.replace(',','.').unstack()"
   ]
  },
  {
   "cell_type": "markdown",
   "id": "97c7ab8a",
   "metadata": {},
   "source": [
    "##### Столбы с количеством комнат и отделкой решили удалить из-за большого количества пропусков"
   ]
  },
  {
   "cell_type": "code",
   "execution_count": 103,
   "id": "1c17af4b",
   "metadata": {},
   "outputs": [],
   "source": [
    "your_df = your_df.drop(columns=['Unnamed: 0', 'nrooms', 'otdelka'])"
   ]
  },
  {
   "cell_type": "markdown",
   "id": "2d0758fe",
   "metadata": {},
   "source": [
    "##### Удалять другие столбцы не нужно, заменять пропуски на медианы или нули смысла нет"
   ]
  },
  {
   "cell_type": "markdown",
   "id": "a5c6d80a",
   "metadata": {},
   "source": [
    "##### Мы хотим поделить столб \"Время до метро\" на 2 столбца: время до метро пешком и время до метро на транспорте"
   ]
  },
  {
   "cell_type": "code",
   "execution_count": 104,
   "id": "84b64498",
   "metadata": {},
   "outputs": [],
   "source": [
    "import numpy as np"
   ]
  },
  {
   "cell_type": "code",
   "execution_count": 105,
   "id": "97cedec8",
   "metadata": {},
   "outputs": [],
   "source": [
    "your_df['to_metro'] = your_df['to_metro'].astype(str)"
   ]
  },
  {
   "cell_type": "code",
   "execution_count": 106,
   "id": "8833eb34",
   "metadata": {},
   "outputs": [],
   "source": [
    "your_df['to_metro_transport'] = 0"
   ]
  },
  {
   "cell_type": "code",
   "execution_count": 107,
   "id": "68d37663",
   "metadata": {},
   "outputs": [
    {
     "name": "stderr",
     "output_type": "stream",
     "text": [
      "C:\\Users\\79024\\AppData\\Local\\Temp/ipykernel_24012/852277437.py:7: SettingWithCopyWarning: \n",
      "A value is trying to be set on a copy of a slice from a DataFrame\n",
      "\n",
      "See the caveats in the documentation: https://pandas.pydata.org/pandas-docs/stable/user_guide/indexing.html#returning-a-view-versus-a-copy\n",
      "  your_df['to_metro_transport'][k] = '-'\n",
      "C:\\ProgramData\\Anaconda3\\lib\\site-packages\\pandas\\core\\indexing.py:1732: SettingWithCopyWarning: \n",
      "A value is trying to be set on a copy of a slice from a DataFrame\n",
      "\n",
      "See the caveats in the documentation: https://pandas.pydata.org/pandas-docs/stable/user_guide/indexing.html#returning-a-view-versus-a-copy\n",
      "  self._setitem_single_block(indexer, value, name)\n"
     ]
    }
   ],
   "source": [
    "k = 0\n",
    "for i in your_df['to_metro']:\n",
    "    if len(i) > 15:\n",
    "        your_df['to_metro_transport'][k] = i\n",
    "        k+=1\n",
    "    else:\n",
    "        your_df['to_metro_transport'][k] = '-'\n",
    "        k+=1"
   ]
  },
  {
   "cell_type": "code",
   "execution_count": 109,
   "id": "f9f2e53f",
   "metadata": {},
   "outputs": [
    {
     "name": "stderr",
     "output_type": "stream",
     "text": [
      "C:\\Users\\79024\\AppData\\Local\\Temp/ipykernel_24012/1515541668.py:4: SettingWithCopyWarning: \n",
      "A value is trying to be set on a copy of a slice from a DataFrame\n",
      "\n",
      "See the caveats in the documentation: https://pandas.pydata.org/pandas-docs/stable/user_guide/indexing.html#returning-a-view-versus-a-copy\n",
      "  your_df['to_metro'][l] = '-'\n"
     ]
    }
   ],
   "source": [
    "l = 0\n",
    "for i in your_df['to_metro']:\n",
    "    if len(i) > 16:\n",
    "        your_df['to_metro'][l] = '-'\n",
    "        l+=1\n",
    "    else:\n",
    "        l+=1"
   ]
  },
  {
   "cell_type": "code",
   "execution_count": 110,
   "id": "3be012f0",
   "metadata": {},
   "outputs": [
    {
     "name": "stderr",
     "output_type": "stream",
     "text": [
      "C:\\Users\\79024\\AppData\\Local\\Temp/ipykernel_24012/3315889628.py:4: SettingWithCopyWarning: \n",
      "A value is trying to be set on a copy of a slice from a DataFrame\n",
      "\n",
      "See the caveats in the documentation: https://pandas.pydata.org/pandas-docs/stable/user_guide/indexing.html#returning-a-view-versus-a-copy\n",
      "  your_df['to_metro'][f] = '-'\n"
     ]
    }
   ],
   "source": [
    "f = 0\n",
    "for i in your_df['to_metro']:\n",
    "    if i == 'nan':\n",
    "        your_df['to_metro'][f] = '-'\n",
    "        f+=1\n",
    "    else:\n",
    "        f+=1"
   ]
  },
  {
   "cell_type": "code",
   "execution_count": 112,
   "id": "815a117c",
   "metadata": {},
   "outputs": [],
   "source": [
    "your_df = your_df.rename(columns={\"to_metro\": \"to_metro_on_foot\"})"
   ]
  },
  {
   "cell_type": "code",
   "execution_count": 113,
   "id": "ef911d27",
   "metadata": {},
   "outputs": [],
   "source": [
    "your_df['to_metro_on_foot'] = your_df['to_metro_on_foot'].str.extract('(\\d+)')"
   ]
  },
  {
   "cell_type": "code",
   "execution_count": 114,
   "id": "9ed70cc3",
   "metadata": {},
   "outputs": [],
   "source": [
    "your_df['to_metro_transport'] = your_df['to_metro_transport'].str.extract('(\\d+)')"
   ]
  },
  {
   "cell_type": "code",
   "execution_count": 115,
   "id": "16436d80",
   "metadata": {},
   "outputs": [],
   "source": [
    "your_df['to_metro_on_foot'] = your_df['to_metro_on_foot'].fillna(0).astype(int)"
   ]
  },
  {
   "cell_type": "code",
   "execution_count": 116,
   "id": "3993ef05",
   "metadata": {},
   "outputs": [],
   "source": [
    "your_df['to_metro_transport'] = your_df['to_metro_transport'].fillna(0).astype(int)"
   ]
  },
  {
   "cell_type": "code",
   "execution_count": 117,
   "id": "14912574",
   "metadata": {},
   "outputs": [
    {
     "data": {
      "text/html": [
       "<div>\n",
       "<style scoped>\n",
       "    .dataframe tbody tr th:only-of-type {\n",
       "        vertical-align: middle;\n",
       "    }\n",
       "\n",
       "    .dataframe tbody tr th {\n",
       "        vertical-align: top;\n",
       "    }\n",
       "\n",
       "    .dataframe thead th {\n",
       "        text-align: right;\n",
       "    }\n",
       "</style>\n",
       "<table border=\"1\" class=\"dataframe\">\n",
       "  <thead>\n",
       "    <tr style=\"text-align: right;\">\n",
       "      <th></th>\n",
       "      <th>meters</th>\n",
       "      <th>floor</th>\n",
       "      <th>floors_total</th>\n",
       "      <th>flat_or_appart</th>\n",
       "      <th>zh_comp</th>\n",
       "      <th>deadline</th>\n",
       "      <th>to_metro_on_foot</th>\n",
       "      <th>district</th>\n",
       "      <th>area</th>\n",
       "      <th>metro</th>\n",
       "      <th>mainprice</th>\n",
       "      <th>price_per_meter</th>\n",
       "      <th>developer</th>\n",
       "      <th>to_metro_transport</th>\n",
       "    </tr>\n",
       "  </thead>\n",
       "  <tbody>\n",
       "    <tr>\n",
       "      <th>0</th>\n",
       "      <td>NaN</td>\n",
       "      <td>NaN</td>\n",
       "      <td>NaN</td>\n",
       "      <td>NaN</td>\n",
       "      <td>ЖК «River Park Towers Кутузовский»</td>\n",
       "      <td>NaN</td>\n",
       "      <td>5</td>\n",
       "      <td>ЗАО</td>\n",
       "      <td>р-н Дорогомилово</td>\n",
       "      <td>м. Фили</td>\n",
       "      <td>22450632</td>\n",
       "      <td>524547</td>\n",
       "      <td>Аеон-Девелопмент</td>\n",
       "      <td>0</td>\n",
       "    </tr>\n",
       "    <tr>\n",
       "      <th>1</th>\n",
       "      <td>NaN</td>\n",
       "      <td>NaN</td>\n",
       "      <td>NaN</td>\n",
       "      <td>NaN</td>\n",
       "      <td>ЖК «ÁLIA»</td>\n",
       "      <td>сдача ГК: 2 кв. 2023 года</td>\n",
       "      <td>7</td>\n",
       "      <td>СЗАО</td>\n",
       "      <td>р-н Покровское-Стрешнево</td>\n",
       "      <td>м. Спартак</td>\n",
       "      <td>16122800</td>\n",
       "      <td>335472</td>\n",
       "      <td>ASTERUS</td>\n",
       "      <td>0</td>\n",
       "    </tr>\n",
       "    <tr>\n",
       "      <th>2</th>\n",
       "      <td>51,2</td>\n",
       "      <td>41.0</td>\n",
       "      <td>66.0</td>\n",
       "      <td>A</td>\n",
       "      <td>ЖК «NEVA TOWERS»</td>\n",
       "      <td>дом сдан</td>\n",
       "      <td>3</td>\n",
       "      <td>ЦАО</td>\n",
       "      <td>р-н Пресненский</td>\n",
       "      <td>м. Выставочная</td>\n",
       "      <td>43724800</td>\n",
       "      <td>854000</td>\n",
       "      <td>Тауэрс</td>\n",
       "      <td>0</td>\n",
       "    </tr>\n",
       "    <tr>\n",
       "      <th>3</th>\n",
       "      <td>49,8</td>\n",
       "      <td>2.0</td>\n",
       "      <td>18.0</td>\n",
       "      <td>F</td>\n",
       "      <td>ЖК «Luzhniki Collection»</td>\n",
       "      <td>сдача ГК: 4 кв. 2026 года</td>\n",
       "      <td>15</td>\n",
       "      <td>ЦАО</td>\n",
       "      <td>р-н Хамовники</td>\n",
       "      <td>м. Воробьёвы горы</td>\n",
       "      <td>33471000</td>\n",
       "      <td>672108</td>\n",
       "      <td>Absolute Premium</td>\n",
       "      <td>0</td>\n",
       "    </tr>\n",
       "    <tr>\n",
       "      <th>4</th>\n",
       "      <td>NaN</td>\n",
       "      <td>NaN</td>\n",
       "      <td>NaN</td>\n",
       "      <td>NaN</td>\n",
       "      <td>ЖК «Famous»</td>\n",
       "      <td>сдача ГК: 4 кв. 2023 года</td>\n",
       "      <td>5</td>\n",
       "      <td>ЗАО</td>\n",
       "      <td>р-н Филевский парк</td>\n",
       "      <td>м. Фили</td>\n",
       "      <td>20837134</td>\n",
       "      <td>543908</td>\n",
       "      <td>MR Group</td>\n",
       "      <td>0</td>\n",
       "    </tr>\n",
       "    <tr>\n",
       "      <th>...</th>\n",
       "      <td>...</td>\n",
       "      <td>...</td>\n",
       "      <td>...</td>\n",
       "      <td>...</td>\n",
       "      <td>...</td>\n",
       "      <td>...</td>\n",
       "      <td>...</td>\n",
       "      <td>...</td>\n",
       "      <td>...</td>\n",
       "      <td>...</td>\n",
       "      <td>...</td>\n",
       "      <td>...</td>\n",
       "      <td>...</td>\n",
       "      <td>...</td>\n",
       "    </tr>\n",
       "    <tr>\n",
       "      <th>8224</th>\n",
       "      <td>NaN</td>\n",
       "      <td>NaN</td>\n",
       "      <td>NaN</td>\n",
       "      <td>NaN</td>\n",
       "      <td>ЖК «Wellton Towers»</td>\n",
       "      <td>NaN</td>\n",
       "      <td>10</td>\n",
       "      <td>СЗАО</td>\n",
       "      <td>р-н Хорошево-Мневники</td>\n",
       "      <td>м. Народное Ополчение</td>\n",
       "      <td>21700000</td>\n",
       "      <td>563636</td>\n",
       "      <td>Место</td>\n",
       "      <td>0</td>\n",
       "    </tr>\n",
       "    <tr>\n",
       "      <th>8225</th>\n",
       "      <td>44,94</td>\n",
       "      <td>3.0</td>\n",
       "      <td>24.0</td>\n",
       "      <td>F</td>\n",
       "      <td>ЖК «Dream Towers»</td>\n",
       "      <td>сдача ГК: 2 кв. 2023 года</td>\n",
       "      <td>5</td>\n",
       "      <td>ЮАО</td>\n",
       "      <td>р-н Нагатинский затон</td>\n",
       "      <td>м. Технопарк</td>\n",
       "      <td>21396534</td>\n",
       "      <td>476113</td>\n",
       "      <td>Regions Development</td>\n",
       "      <td>0</td>\n",
       "    </tr>\n",
       "    <tr>\n",
       "      <th>8226</th>\n",
       "      <td>48,3</td>\n",
       "      <td>12.0</td>\n",
       "      <td>18.0</td>\n",
       "      <td>F</td>\n",
       "      <td>ЖК «Бадаевский»</td>\n",
       "      <td>сдача ГК: 4 кв. 2025 года</td>\n",
       "      <td>16</td>\n",
       "      <td>ЗАО</td>\n",
       "      <td>р-н Дорогомилово</td>\n",
       "      <td>м. Киевская</td>\n",
       "      <td>50232000</td>\n",
       "      <td>1040000</td>\n",
       "      <td>Capital Group</td>\n",
       "      <td>0</td>\n",
       "    </tr>\n",
       "    <tr>\n",
       "      <th>8227</th>\n",
       "      <td>50,2</td>\n",
       "      <td>16.0</td>\n",
       "      <td>24.0</td>\n",
       "      <td>F</td>\n",
       "      <td>ЖК «HIGH LIFE Летниковская, 11»</td>\n",
       "      <td>NaN</td>\n",
       "      <td>9</td>\n",
       "      <td>ЮАО</td>\n",
       "      <td>р-н Даниловский</td>\n",
       "      <td>м. Павелецкая</td>\n",
       "      <td>33159459</td>\n",
       "      <td>660547</td>\n",
       "      <td>Пионер</td>\n",
       "      <td>0</td>\n",
       "    </tr>\n",
       "    <tr>\n",
       "      <th>8228</th>\n",
       "      <td>53,57</td>\n",
       "      <td>3.0</td>\n",
       "      <td>6.0</td>\n",
       "      <td>A</td>\n",
       "      <td>ЖК «Клубный дом Космо 4/22»</td>\n",
       "      <td>NaN</td>\n",
       "      <td>15</td>\n",
       "      <td>ЦАО</td>\n",
       "      <td>р-н Замоскворечье</td>\n",
       "      <td>м. Новокузнецкая</td>\n",
       "      <td>49402254</td>\n",
       "      <td>922200</td>\n",
       "      <td>Галс-Девелопмент</td>\n",
       "      <td>0</td>\n",
       "    </tr>\n",
       "  </tbody>\n",
       "</table>\n",
       "<p>8229 rows × 14 columns</p>\n",
       "</div>"
      ],
      "text/plain": [
       "     meters  floor  floors_total flat_or_appart  \\\n",
       "0       NaN    NaN           NaN            NaN   \n",
       "1       NaN    NaN           NaN            NaN   \n",
       "2      51,2   41.0          66.0              A   \n",
       "3      49,8    2.0          18.0              F   \n",
       "4       NaN    NaN           NaN            NaN   \n",
       "...     ...    ...           ...            ...   \n",
       "8224    NaN    NaN           NaN            NaN   \n",
       "8225  44,94    3.0          24.0              F   \n",
       "8226   48,3   12.0          18.0              F   \n",
       "8227   50,2   16.0          24.0              F   \n",
       "8228  53,57    3.0           6.0              A   \n",
       "\n",
       "                                 zh_comp                   deadline  \\\n",
       "0     ЖК «River Park Towers Кутузовский»                        NaN   \n",
       "1                              ЖК «ÁLIA»  сдача ГК: 2 кв. 2023 года   \n",
       "2                       ЖК «NEVA TOWERS»                   дом сдан   \n",
       "3               ЖК «Luzhniki Collection»  сдача ГК: 4 кв. 2026 года   \n",
       "4                            ЖК «Famous»  сдача ГК: 4 кв. 2023 года   \n",
       "...                                  ...                        ...   \n",
       "8224                 ЖК «Wellton Towers»                        NaN   \n",
       "8225                   ЖК «Dream Towers»  сдача ГК: 2 кв. 2023 года   \n",
       "8226                     ЖК «Бадаевский»  сдача ГК: 4 кв. 2025 года   \n",
       "8227     ЖК «HIGH LIFE Летниковская, 11»                        NaN   \n",
       "8228         ЖК «Клубный дом Космо 4/22»                        NaN   \n",
       "\n",
       "      to_metro_on_foot district                      area  \\\n",
       "0                    5      ЗАО          р-н Дорогомилово   \n",
       "1                    7     СЗАО  р-н Покровское-Стрешнево   \n",
       "2                    3      ЦАО           р-н Пресненский   \n",
       "3                   15      ЦАО             р-н Хамовники   \n",
       "4                    5      ЗАО        р-н Филевский парк   \n",
       "...                ...      ...                       ...   \n",
       "8224                10     СЗАО     р-н Хорошево-Мневники   \n",
       "8225                 5      ЮАО     р-н Нагатинский затон   \n",
       "8226                16      ЗАО          р-н Дорогомилово   \n",
       "8227                 9      ЮАО           р-н Даниловский   \n",
       "8228                15      ЦАО         р-н Замоскворечье   \n",
       "\n",
       "                      metro  mainprice  price_per_meter            developer  \\\n",
       "0                   м. Фили   22450632           524547     Аеон-Девелопмент   \n",
       "1                м. Спартак   16122800           335472              ASTERUS   \n",
       "2            м. Выставочная   43724800           854000               Тауэрс   \n",
       "3         м. Воробьёвы горы   33471000           672108     Absolute Premium   \n",
       "4                   м. Фили   20837134           543908             MR Group   \n",
       "...                     ...        ...              ...                  ...   \n",
       "8224  м. Народное Ополчение   21700000           563636                Место   \n",
       "8225           м. Технопарк   21396534           476113  Regions Development   \n",
       "8226            м. Киевская   50232000          1040000        Capital Group   \n",
       "8227          м. Павелецкая   33159459           660547               Пионер   \n",
       "8228       м. Новокузнецкая   49402254           922200     Галс-Девелопмент   \n",
       "\n",
       "      to_metro_transport  \n",
       "0                      0  \n",
       "1                      0  \n",
       "2                      0  \n",
       "3                      0  \n",
       "4                      0  \n",
       "...                  ...  \n",
       "8224                   0  \n",
       "8225                   0  \n",
       "8226                   0  \n",
       "8227                   0  \n",
       "8228                   0  \n",
       "\n",
       "[8229 rows x 14 columns]"
      ]
     },
     "execution_count": 117,
     "metadata": {},
     "output_type": "execute_result"
    }
   ],
   "source": [
    "your_df"
   ]
  },
  {
   "cell_type": "markdown",
   "id": "4a2a5ba8",
   "metadata": {},
   "source": [
    "## Анализируем и визуализируем полученные данные"
   ]
  },
  {
   "cell_type": "code",
   "execution_count": 118,
   "id": "a258a64e",
   "metadata": {},
   "outputs": [],
   "source": [
    "your_df.replace(0, np.nan, inplace=True)"
   ]
  },
  {
   "cell_type": "markdown",
   "id": "e974dc85",
   "metadata": {},
   "source": [
    "##### Посчитаем количество уникальных районов, в которых находятся квартиры"
   ]
  },
  {
   "cell_type": "code",
   "execution_count": 212,
   "id": "4705811d",
   "metadata": {},
   "outputs": [
    {
     "data": {
      "text/plain": [
       "117"
      ]
     },
     "execution_count": 212,
     "metadata": {},
     "output_type": "execute_result"
    }
   ],
   "source": [
    "len(your_df['area'].unique())"
   ]
  },
  {
   "cell_type": "markdown",
   "id": "0a45aef2",
   "metadata": {},
   "source": [
    "##### Посмотрим, у каких застройщиков самые высокие цены"
   ]
  },
  {
   "cell_type": "code",
   "execution_count": 213,
   "id": "907d2a4c",
   "metadata": {},
   "outputs": [
    {
     "data": {
      "text/plain": [
       "developer\n",
       "494 УНР                        661000.000000\n",
       "AFI Development                424666.666667\n",
       "ALFA real estate               437853.000000\n",
       "ALVO Group                     621551.250000\n",
       "ASTERUS                        336381.831818\n",
       "ATLANT                         571429.000000\n",
       "Absolute Premium               673515.889908\n",
       "Acropol                        414957.000000\n",
       "Alliance Agency Real Estate    366154.000000\n",
       "BARNES International Realty    488700.500000\n",
       "Name: price_per_meter, dtype: float64"
      ]
     },
     "execution_count": 213,
     "metadata": {},
     "output_type": "execute_result"
    }
   ],
   "source": [
    "your_df.groupby('developer')['price_per_meter'].mean().head(10)  "
   ]
  },
  {
   "cell_type": "markdown",
   "id": "261d302e",
   "metadata": {},
   "source": [
    "##### Посмотрим, как соотносятся средние цены за квадратный метр по округам"
   ]
  },
  {
   "cell_type": "code",
   "execution_count": 227,
   "id": "623fe836",
   "metadata": {},
   "outputs": [
    {
     "data": {
      "image/png": "[encoded data removed]",
      "text/plain": [
       "<Figure size 432x288 with 1 Axes>"
      ]
     },
     "metadata": {
      "needs_background": "light"
     },
     "output_type": "display_data"
    }
   ],
   "source": [
    "plt.ticklabel_format(style = 'plain')\n",
    "your_df.groupby(by='district')['price_per_meter'].mean().plot(kind='bar', legend=None, color='pink');\n",
    "plt.title('Средняя цена за квадратный метр по округам')\n",
    "plt.xlabel('Округ')\n",
    "plt.ylabel('Средняя цена за квадратный метр');"
   ]
  },
  {
   "cell_type": "markdown",
   "id": "c4e4b676",
   "metadata": {},
   "source": [
    "##### Можем заметить, что средние цены за квадратный метр в ЮВАО и ЮЗАО равны. Исходя из этого выдвинем гипотезу, что действительно стоимости квадратного метра жилья в ЮВАО и ЮЗАО равны и позже проверим наше предположение."
   ]
  },
  {
   "cell_type": "markdown",
   "id": "0a5ecbc2",
   "metadata": {},
   "source": [
    "##### Выясним, как соотносятся между собой средние цены за квадратный метр в апартаментах и в квартирах"
   ]
  },
  {
   "cell_type": "code",
   "execution_count": 121,
   "id": "b3d54848",
   "metadata": {},
   "outputs": [
    {
     "data": {
      "text/plain": [
       "flat_or_appart\n",
       "A    818579.312064\n",
       "F    793512.759321\n",
       "Name: price_per_meter, dtype: float64"
      ]
     },
     "execution_count": 121,
     "metadata": {},
     "output_type": "execute_result"
    }
   ],
   "source": [
    "your_df.groupby('flat_or_appart')['price_per_meter'].mean()"
   ]
  },
  {
   "cell_type": "markdown",
   "id": "a02857ee",
   "metadata": {},
   "source": [
    "##### Здесь мы видим интересную закономерность, что цена за метр квадратный в апартаментах в среднем выше цены за метр квадратных в квартирах. Попробуем исследовать эту связь глубже"
   ]
  },
  {
   "cell_type": "markdown",
   "id": "4f6bebc4",
   "metadata": {},
   "source": [
    "Посмотрим на список округов, которые у нас есть"
   ]
  },
  {
   "cell_type": "code",
   "execution_count": 217,
   "id": "377710ba",
   "metadata": {},
   "outputs": [
    {
     "data": {
      "text/plain": [
       "array(['ЗАО', 'СЗАО', 'ЦАО', 'САО', 'ЮАО', 'СВАО', 'ВАО',\n",
       "       'НАО (Новомосковский)', 'ЮВАО', 'ЮЗАО', 'ТАО (Троицкий)', 'ЗелАО'],\n",
       "      dtype=object)"
      ]
     },
     "execution_count": 217,
     "metadata": {},
     "output_type": "execute_result"
    }
   ],
   "source": [
    "X = your_df['district'].unique()\n",
    "X = np.delete(X, 11)\n",
    "X"
   ]
  },
  {
   "cell_type": "markdown",
   "id": "d02e3c9c",
   "metadata": {},
   "source": [
    "Всего у нас 12 округов"
   ]
  },
  {
   "cell_type": "markdown",
   "id": "a558cd79",
   "metadata": {},
   "source": [
    "##### Визуализируем распределение количества квартир и апартаментов по округам"
   ]
  },
  {
   "cell_type": "code",
   "execution_count": 220,
   "id": "532f7e77",
   "metadata": {},
   "outputs": [],
   "source": [
    "number_of_aps = np.array([])\n",
    "for i in X:\n",
    "    z = your_df[(your_df['flat_or_appart'] == 'A') & (your_df['district'] == f'{i}')]\n",
    "    number_of_aps = np.append(number_of_aps, len(z))"
   ]
  },
  {
   "cell_type": "code",
   "execution_count": 221,
   "id": "764c72a7",
   "metadata": {},
   "outputs": [],
   "source": [
    "number_of_flats = np.array([])\n",
    "for i in X:\n",
    "    z = your_df[(your_df['flat_or_appart'] == 'F') & (your_df['district'] == f'{i}')]\n",
    "    number_of_flats = np.append(number_of_flats, len(z))"
   ]
  },
  {
   "cell_type": "code",
   "execution_count": 222,
   "id": "6e012c4d",
   "metadata": {},
   "outputs": [
    {
     "data": {
      "image/png": "[encoded data removed]",
      "text/plain": [
       "<Figure size 1440x432 with 1 Axes>"
      ]
     },
     "metadata": {
      "needs_background": "light"
     },
     "output_type": "display_data"
    }
   ],
   "source": [
    "X_axis = np.arange(len(X))\n",
    "plt.figure(figsize=(20,6))  \n",
    "plt.bar(X_axis - 0.2, number_of_aps, 0.4, label = 'Апартаменты')\n",
    "plt.bar(X_axis + 0.2, number_of_flats, 0.4, label = 'Квартиры')\n",
    "  \n",
    "plt.xticks(X_axis, X)\n",
    "plt.xlabel(\"Название округа\")\n",
    "plt.ylabel(\"Количество\")\n",
    "plt.title(\"Количество апартаментов и квартир по округам\")\n",
    "plt.legend()\n",
    "plt.show()"
   ]
  },
  {
   "cell_type": "markdown",
   "id": "905c8924",
   "metadata": {},
   "source": [
    "##### На графике видно, что больше всего апартаментов находятся в ЦАО, с этим может быть связана их высокая средняя цена. В отдаленных от центра Москвы районах апартаментов нет совсем."
   ]
  },
  {
   "cell_type": "markdown",
   "id": "ba63e8d4",
   "metadata": {},
   "source": [
    "##### Теперь исследуем средние цены квартир и апартаментов по округам"
   ]
  },
  {
   "cell_type": "code",
   "execution_count": 223,
   "id": "50bbe32d",
   "metadata": {},
   "outputs": [],
   "source": [
    "price_of_aps = np.array([])\n",
    "for i in X:\n",
    "    z = your_df[(your_df['flat_or_appart'] == 'A') & (your_df['district'] == f'{i}')]\n",
    "    price_of_aps = np.append(price_of_aps, z['price_per_meter'].mean())"
   ]
  },
  {
   "cell_type": "code",
   "execution_count": 224,
   "id": "ed7ff666",
   "metadata": {},
   "outputs": [],
   "source": [
    "price_of_flats = np.array([])\n",
    "for i in X:\n",
    "    z = your_df[(your_df['flat_or_appart'] == 'F') & (your_df['district'] == f'{i}')]\n",
    "    price_of_flats = np.append(price_of_flats, z['price_per_meter'].mean())"
   ]
  },
  {
   "cell_type": "code",
   "execution_count": 225,
   "id": "7e2a63ab",
   "metadata": {},
   "outputs": [
    {
     "data": {
      "image/png": "[encoded data removed]",
      "text/plain": [
       "<Figure size 1440x432 with 1 Axes>"
      ]
     },
     "metadata": {
      "needs_background": "light"
     },
     "output_type": "display_data"
    }
   ],
   "source": [
    "X_axis = np.arange(len(X))\n",
    "\n",
    "plt.figure(figsize=(20,6)) \n",
    "plt.ticklabel_format(style = 'plain')\n",
    "plt.bar(X_axis - 0.2, price_of_aps, 0.4, label = 'Апартаменты')\n",
    "plt.bar(X_axis + 0.2, price_of_flats, 0.4, label = 'Квартиры')\n",
    "  \n",
    "plt.xticks(X_axis, X)\n",
    "plt.xlabel(\"Название округа\")\n",
    "plt.ylabel(\"Цена за квадратный метр\")\n",
    "plt.title(\"Цены апартаментов и квартир по округам\")\n",
    "plt.legend()\n",
    "plt.show()"
   ]
  },
  {
   "cell_type": "markdown",
   "id": "b0038525",
   "metadata": {},
   "source": [
    "##### На графике видно, что в большинстве округов, где есть и квартиры, и апартаменты, квартиры стоят дороже, однако в САО, ЮВАО и ЮЗАО - наоборот. А в среднем, как выяснидось ранее, квадратный метр в апартаментах стоит дороже чем в квартирах."
   ]
  },
  {
   "cell_type": "markdown",
   "id": "6d8f0f2c",
   "metadata": {},
   "source": [
    "##### Исходя из собственного жизненного опыта мы предпологаем, что для недвижимости более низкого ценового сегмента параметр \"время до метро пешком\" значительно влияет на цену (чем ближе к метро жилье, тем дороже квартира). Также мы думаем, что эта закономерность ослабевает или пропадает для недвижимости более высокого ценового сегмента. Посмотрим, какие результаты получатся на нашей выборке."
   ]
  },
  {
   "cell_type": "markdown",
   "id": "656899f1",
   "metadata": {},
   "source": [
    "##### Сначала возьмем недвижимость с более низким ценником из нашей выборки. Это будет жилье стоимостью ниже 30 миллионов рублей."
   ]
  },
  {
   "cell_type": "code",
   "execution_count": 230,
   "id": "2a0b0232",
   "metadata": {},
   "outputs": [
    {
     "data": {
      "image/png": "[encoded data removed]",
      "text/plain": [
       "<Figure size 432x288 with 2 Axes>"
      ]
     },
     "metadata": {
      "needs_background": "light"
     },
     "output_type": "display_data"
    }
   ],
   "source": [
    "matrix = your_df[your_df['mainprice']<30000000][['to_metro_on_foot', 'price_per_meter']].dropna().corr()\n",
    "sns.heatmap(matrix, annot=True, vmax=1, vmin=-1, center=0, cmap='vlag')\n",
    "plt.show()"
   ]
  },
  {
   "cell_type": "markdown",
   "id": "5f2b3ed0",
   "metadata": {},
   "source": [
    "##### На тепловой карте корреляции мы видим, что есть небольшая обратная зависимость между временем до метро пешком и стоимостью квартиры."
   ]
  },
  {
   "cell_type": "markdown",
   "id": "d87cef3b",
   "metadata": {},
   "source": [
    "##### Теперь посмотрим на \"средний\" ценовой сегмент для нашей выборки (по факту это очень приличное жилье, конечно). В нем будет недвижимость стоимостью от 30 до 60 миллионов рублей."
   ]
  },
  {
   "cell_type": "code",
   "execution_count": 231,
   "id": "0bd35845",
   "metadata": {},
   "outputs": [
    {
     "data": {
      "image/png": "[encoded data removed]",
      "text/plain": [
       "<Figure size 432x288 with 2 Axes>"
      ]
     },
     "metadata": {
      "needs_background": "light"
     },
     "output_type": "display_data"
    }
   ],
   "source": [
    "matrix = your_df[(your_df['mainprice']>30000000) & (your_df['mainprice']<60000000)][['to_metro_on_foot', 'price_per_meter']].dropna().corr()\n",
    "sns.heatmap(matrix, annot=True, vmax=1, vmin=-1, center=0, cmap='vlag')\n",
    "plt.show()"
   ]
  },
  {
   "cell_type": "markdown",
   "id": "05a00bae",
   "metadata": {},
   "source": [
    "##### На тепловой карте корреляции мы видим, обратная зависимость времени до метро пешком и цены недвижимости усилилась больше чем втрое."
   ]
  },
  {
   "cell_type": "markdown",
   "id": "2706ce32",
   "metadata": {},
   "source": [
    "##### Наконец оценим эту зависимость для элитной недвижимости стоимостью более 60 миллионов рублей."
   ]
  },
  {
   "cell_type": "code",
   "execution_count": 232,
   "id": "c69b4af4",
   "metadata": {},
   "outputs": [
    {
     "data": {
      "image/png": "[encoded data removed]",
      "text/plain": [
       "<Figure size 432x288 with 2 Axes>"
      ]
     },
     "metadata": {
      "needs_background": "light"
     },
     "output_type": "display_data"
    }
   ],
   "source": [
    "matrix = your_df[your_df['mainprice']>60000000][['to_metro_on_foot', 'price_per_meter']].dropna().corr()\n",
    "sns.heatmap(matrix, annot=True, vmax=1, vmin=-1, center=0, cmap='vlag')\n",
    "plt.show()"
   ]
  },
  {
   "cell_type": "markdown",
   "id": "6a4d817d",
   "metadata": {},
   "source": [
    "##### На тепловой карте корреляции мы видим, что для элитной недвижимости ситуацияя иная: чем дальше жилье от метро, тем больше его цена. Это интересные результаты и в следующих пунктах мы проверим гипотезу о том, что для более дешевого жилья между временем до метро и ценой существует отрицательная связь, а для элитной недвижимости - положительная."
   ]
  },
  {
   "cell_type": "markdown",
   "id": "6b4ceac0",
   "metadata": {},
   "source": [
    "##### У нас также появилась мысль о том, что квартиры на последнем и предпоследнем этажах в наших новостройках могут стоить дороже остальных. Это может быть справедливо, так как в таких квартирах обычно более высокие потолки, а это повышает цену жилья. Такого признака не было в исходной таблице, поэтому переходим к пункту...."
   ]
  },
  {
   "cell_type": "markdown",
   "id": "02e3e038",
   "metadata": {},
   "source": [
    "## Создание новых признаков"
   ]
  },
  {
   "cell_type": "markdown",
   "id": "2f39c4f6",
   "metadata": {},
   "source": [
    "#####  В пунтке \"Предварительная обработка\" мы уже создавали новые признаки - время до метро пешком и время до метро на транспорте."
   ]
  },
  {
   "cell_type": "markdown",
   "id": "4c95a3bf",
   "metadata": {},
   "source": [
    "##### Теперь мы хотим создать признак \"Upper floors\", который будет распределять квартиры на те, которые находятся на последних двух этажах здания и те, которые не находятся. Если квартира находится на последнем и предпоследнем этаже здания, в колонке проставить 1, в ином случае - 0."
   ]
  },
  {
   "cell_type": "code",
   "execution_count": 236,
   "id": "9c84fa13",
   "metadata": {},
   "outputs": [
    {
     "name": "stderr",
     "output_type": "stream",
     "text": [
      "C:\\Users\\79024\\AppData\\Local\\Temp/ipykernel_24012/3920402108.py:4: SettingWithCopyWarning: \n",
      "A value is trying to be set on a copy of a slice from a DataFrame\n",
      "\n",
      "See the caveats in the documentation: https://pandas.pydata.org/pandas-docs/stable/user_guide/indexing.html#returning-a-view-versus-a-copy\n",
      "  your_df['upper_floors'][i] = 1\n"
     ]
    }
   ],
   "source": [
    "your_df['upper_floors'] = np.zeros(8229)\n",
    "for i in range(8229):\n",
    "    if your_df['floors_total'][i] - your_df['floor'][i] <= 1:\n",
    "        your_df['upper_floors'][i] = 1"
   ]
  },
  {
   "cell_type": "code",
   "execution_count": 239,
   "id": "2920e3a1",
   "metadata": {},
   "outputs": [
    {
     "data": {
      "text/plain": [
       "0       0.0\n",
       "1       0.0\n",
       "2       0.0\n",
       "3       0.0\n",
       "4       0.0\n",
       "       ... \n",
       "8224    0.0\n",
       "8225    0.0\n",
       "8226    0.0\n",
       "8227    0.0\n",
       "8228    0.0\n",
       "Name: upper_floors, Length: 8229, dtype: float64"
      ]
     },
     "execution_count": 239,
     "metadata": {},
     "output_type": "execute_result"
    }
   ],
   "source": [
    "your_df['upper_floors']"
   ]
  },
  {
   "cell_type": "markdown",
   "id": "4f95aed5",
   "metadata": {},
   "source": [
    "##### Посмотрим на средние цены недвижимости на последних этажах и на остальных этажах."
   ]
  },
  {
   "cell_type": "code",
   "execution_count": 243,
   "id": "91f23e3f",
   "metadata": {},
   "outputs": [
    {
     "data": {
      "text/plain": [
       "39868430.753665686"
      ]
     },
     "execution_count": 243,
     "metadata": {},
     "output_type": "execute_result"
    }
   ],
   "source": [
    "your_df[your_df['upper_floors']==1]['mainprice'].mean()"
   ]
  },
  {
   "cell_type": "code",
   "execution_count": 244,
   "id": "a9a787e4",
   "metadata": {},
   "outputs": [
    {
     "data": {
      "text/plain": [
       "36235968.58189655"
      ]
     },
     "execution_count": 244,
     "metadata": {},
     "output_type": "execute_result"
    }
   ],
   "source": [
    "your_df[your_df['upper_floors']==0]['mainprice'].mean()"
   ]
  },
  {
   "cell_type": "markdown",
   "id": "931b054f",
   "metadata": {},
   "source": [
    "##### Мы видим, что цены недвижимости на последнем и предпоследнем этажах действительно больше, чем на остальных!"
   ]
  },
  {
   "cell_type": "markdown",
   "id": "ecd50195",
   "metadata": {},
   "source": [
    "##### Исходя из наших предположений мы хотим проверить гипотезу о том, что недвижимость стоит дороже, если находится на последнем и предпоследнем этажах."
   ]
  },
  {
   "cell_type": "code",
   "execution_count": null,
   "id": "94052410",
   "metadata": {},
   "outputs": [],
   "source": []
  }
 ],
 "metadata": {
  "hide_input": false,
  "kernelspec": {
   "display_name": "Python 3 (ipykernel)",
   "language": "python",
   "name": "python3"
  },
  "language_info": {
   "codemirror_mode": {
    "name": "ipython",
    "version": 3
   },
   "file_extension": ".py",
   "mimetype": "text/x-python",
   "name": "python",
   "nbconvert_exporter": "python",
   "pygments_lexer": "ipython3",
   "version": "3.9.7"
  }
 },
 "nbformat": 4,
 "nbformat_minor": 5
}
